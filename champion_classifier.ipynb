{
 "cells": [
  {
   "cell_type": "markdown",
   "metadata": {},
   "source": [
    "# Champion Classifier:\n",
    "- match image data with excel file of champion labels\n",
    "- background images\n",
    "- VGG structure\n",
    "\n",
    "- annotations_file (CSV)\n",
    "    - file_name, one_hot_encoding_champion \n",
    "\n",
    "- img_dir (Path)\n",
    "    - path that contains all the image\n"
   ]
  },
  {
   "cell_type": "code",
   "execution_count": 132,
   "metadata": {},
   "outputs": [],
   "source": [
    "# Packages\n",
    "import numpy as np\n",
    "import pandas as pd\n",
    "import os\n",
    "import shutil #copy and paste files\n",
    "import re"
   ]
  },
  {
   "cell_type": "markdown",
   "metadata": {},
   "source": [
    "### Read data"
   ]
  },
  {
   "cell_type": "code",
   "execution_count": 138,
   "metadata": {},
   "outputs": [],
   "source": [
    "df = pd.read_excel('data/Champions_Label.xlsx')\n",
    "master_champ_df = pd.read_excel('data/champion_list_master_dataset.xlsx')\n",
    "\n",
    "columns = ['YouTuber', 'Video', 'Name', 'Filename', 'Champ']"
   ]
  },
  {
   "cell_type": "markdown",
   "metadata": {},
   "source": [
    "### Clean data"
   ]
  },
  {
   "cell_type": "code",
   "execution_count": 139,
   "metadata": {},
   "outputs": [],
   "source": [
    "# Drop the nan rows and ? rows\n",
    "master_champ_list = master_champ_df.champion.unique().tolist()"
   ]
  },
  {
   "cell_type": "code",
   "execution_count": 140,
   "metadata": {},
   "outputs": [
    {
     "data": {
      "text/html": [
       "<div>\n",
       "<style scoped>\n",
       "    .dataframe tbody tr th:only-of-type {\n",
       "        vertical-align: middle;\n",
       "    }\n",
       "\n",
       "    .dataframe tbody tr th {\n",
       "        vertical-align: top;\n",
       "    }\n",
       "\n",
       "    .dataframe thead th {\n",
       "        text-align: right;\n",
       "    }\n",
       "</style>\n",
       "<table border=\"1\" class=\"dataframe\">\n",
       "  <thead>\n",
       "    <tr style=\"text-align: right;\">\n",
       "      <th></th>\n",
       "      <th>YouTuber</th>\n",
       "      <th>Video</th>\n",
       "      <th>Name</th>\n",
       "      <th>Filename</th>\n",
       "      <th>Champ</th>\n",
       "    </tr>\n",
       "  </thead>\n",
       "  <tbody>\n",
       "  </tbody>\n",
       "</table>\n",
       "</div>"
      ],
      "text/plain": [
       "Empty DataFrame\n",
       "Columns: [YouTuber, Video, Name, Filename, Champ]\n",
       "Index: []"
      ]
     },
     "execution_count": 140,
     "metadata": {},
     "output_type": "execute_result"
    }
   ],
   "source": [
    "# Remove all NA values\n",
    "df = df[~df.Champ.isna()]\n",
    "\n",
    "# Keep relevant columns\n",
    "df = df.loc[:, columns]\n",
    "\n",
    "# Check if names are all correct\n",
    "df[~df.Champ.isin(master_champ_list)]"
   ]
  },
  {
   "cell_type": "code",
   "execution_count": 141,
   "metadata": {},
   "outputs": [],
   "source": [
    "# One hot encoding of champions\n",
    "champion_df = df.Champ.copy()\n",
    "champion_df = champion_df.apply(lambda x: master_champ_list.index(x))\n",
    "\n",
    "df['Champ_onehot'] = champion_df"
   ]
  },
  {
   "cell_type": "markdown",
   "metadata": {},
   "source": [
    "### Move all relevant images to data"
   ]
  },
  {
   "cell_type": "code",
   "execution_count": 150,
   "metadata": {},
   "outputs": [],
   "source": [
    "final_data_path = os.path.join(os.getcwd(), 'data', 'champion-classifier')\n",
    "\n",
    "if not os.path.exists(final_data_path):\n",
    "    os.makedirs(final_data_path)\n",
    "\n",
    "image_name_list = []\n",
    "\n",
    "\n",
    "for i in range(len(df)):\n",
    "    image_name = f'image_{i}.jpg'\n",
    "    row = df.iloc[i, :]\n",
    "    path_to_img = os.path.join(os.getcwd(), 'contents', row.YouTuber, row.Video, re.sub(r'.jpg', '', row.Name), re.sub(r'.jpg', '', row.Filename)+'.png')\n",
    "    path_to_final_img = os.path.join(final_data_path, image_name)\n",
    "    image_name_list.append(image_name)\n",
    "    shutil.copyfile(path_to_img, path_to_final_img)\n",
    "\n",
    "df['image_name'] = image_name_list"
   ]
  },
  {
   "cell_type": "code",
   "execution_count": 161,
   "metadata": {},
   "outputs": [
    {
     "data": {
      "text/html": [
       "<div>\n",
       "<style scoped>\n",
       "    .dataframe tbody tr th:only-of-type {\n",
       "        vertical-align: middle;\n",
       "    }\n",
       "\n",
       "    .dataframe tbody tr th {\n",
       "        vertical-align: top;\n",
       "    }\n",
       "\n",
       "    .dataframe thead th {\n",
       "        text-align: right;\n",
       "    }\n",
       "</style>\n",
       "<table border=\"1\" class=\"dataframe\">\n",
       "  <thead>\n",
       "    <tr style=\"text-align: right;\">\n",
       "      <th></th>\n",
       "      <th>image_name</th>\n",
       "      <th>Champ_onehot</th>\n",
       "      <th>Champ</th>\n",
       "    </tr>\n",
       "  </thead>\n",
       "  <tbody>\n",
       "    <tr>\n",
       "      <th>1</th>\n",
       "      <td>image_0.jpg</td>\n",
       "      <td>23</td>\n",
       "      <td>Warwick</td>\n",
       "    </tr>\n",
       "    <tr>\n",
       "      <th>2</th>\n",
       "      <td>image_1.jpg</td>\n",
       "      <td>74</td>\n",
       "      <td>Taric</td>\n",
       "    </tr>\n",
       "    <tr>\n",
       "      <th>3</th>\n",
       "      <td>image_2.jpg</td>\n",
       "      <td>2</td>\n",
       "      <td>Camille</td>\n",
       "    </tr>\n",
       "    <tr>\n",
       "      <th>22</th>\n",
       "      <td>image_3.jpg</td>\n",
       "      <td>22</td>\n",
       "      <td>Talon</td>\n",
       "    </tr>\n",
       "    <tr>\n",
       "      <th>26</th>\n",
       "      <td>image_4.jpg</td>\n",
       "      <td>73</td>\n",
       "      <td>Shaco</td>\n",
       "    </tr>\n",
       "    <tr>\n",
       "      <th>...</th>\n",
       "      <td>...</td>\n",
       "      <td>...</td>\n",
       "      <td>...</td>\n",
       "    </tr>\n",
       "    <tr>\n",
       "      <th>217931</th>\n",
       "      <td>image_799.jpg</td>\n",
       "      <td>35</td>\n",
       "      <td>Senna</td>\n",
       "    </tr>\n",
       "    <tr>\n",
       "      <th>217932</th>\n",
       "      <td>image_800.jpg</td>\n",
       "      <td>46</td>\n",
       "      <td>Orianna</td>\n",
       "    </tr>\n",
       "    <tr>\n",
       "      <th>217941</th>\n",
       "      <td>image_801.jpg</td>\n",
       "      <td>34</td>\n",
       "      <td>Morgana</td>\n",
       "    </tr>\n",
       "    <tr>\n",
       "      <th>217948</th>\n",
       "      <td>image_802.jpg</td>\n",
       "      <td>3</td>\n",
       "      <td>Darius</td>\n",
       "    </tr>\n",
       "    <tr>\n",
       "      <th>217950</th>\n",
       "      <td>image_803.jpg</td>\n",
       "      <td>41</td>\n",
       "      <td>Braum</td>\n",
       "    </tr>\n",
       "  </tbody>\n",
       "</table>\n",
       "<p>804 rows × 3 columns</p>\n",
       "</div>"
      ],
      "text/plain": [
       "           image_name  Champ_onehot    Champ\n",
       "1         image_0.jpg            23  Warwick\n",
       "2         image_1.jpg            74    Taric\n",
       "3         image_2.jpg             2  Camille\n",
       "22        image_3.jpg            22    Talon\n",
       "26        image_4.jpg            73    Shaco\n",
       "...               ...           ...      ...\n",
       "217931  image_799.jpg            35    Senna\n",
       "217932  image_800.jpg            46  Orianna\n",
       "217941  image_801.jpg            34  Morgana\n",
       "217948  image_802.jpg             3   Darius\n",
       "217950  image_803.jpg            41    Braum\n",
       "\n",
       "[804 rows x 3 columns]"
      ]
     },
     "execution_count": 161,
     "metadata": {},
     "output_type": "execute_result"
    }
   ],
   "source": [
    "annotation_file = df.loc[:, ['image_name', 'Champ_onehot', 'Champ']]\n",
    "annotation_file"
   ]
  },
  {
   "cell_type": "code",
   "execution_count": 160,
   "metadata": {},
   "outputs": [
    {
     "data": {
      "text/plain": [
       "'/Users/mgw/Desktop/CS686_Project/teamfight-tactics-ai/data/champion-classifier'"
      ]
     },
     "execution_count": 160,
     "metadata": {},
     "output_type": "execute_result"
    }
   ],
   "source": [
    "final_data_path"
   ]
  },
  {
   "cell_type": "code",
   "execution_count": null,
   "metadata": {},
   "outputs": [],
   "source": []
  }
 ],
 "metadata": {
  "interpreter": {
   "hash": "0f63f26de748f105537615ec22abe0c9c589e2c8df9dc8e7c73b924db79e12be"
  },
  "kernelspec": {
   "display_name": "Python 3.9.7 ('base')",
   "language": "python",
   "name": "python3"
  },
  "language_info": {
   "codemirror_mode": {
    "name": "ipython",
    "version": 3
   },
   "file_extension": ".py",
   "mimetype": "text/x-python",
   "name": "python",
   "nbconvert_exporter": "python",
   "pygments_lexer": "ipython3",
   "version": "3.9.7"
  },
  "orig_nbformat": 4
 },
 "nbformat": 4,
 "nbformat_minor": 2
}
