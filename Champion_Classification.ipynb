{
 "cells": [
  {
   "cell_type": "code",
   "execution_count": 362,
   "id": "25d97d98",
   "metadata": {},
   "outputs": [],
   "source": [
    "# Python Libraries\n",
    "import random\n",
    "import math\n",
    "import numbers\n",
    "import platform\n",
    "import copy\n",
    "import os\n",
    "import time\n",
    "import pickle\n",
    "\n",
    "# Importing essential libraries for basic image manipulations.\n",
    "import numpy as np\n",
    "import pandas as pd\n",
    "import matplotlib.pyplot as plt\n",
    "from sklearn.metrics import confusion_matrix\n",
    "from sklearn.model_selection import train_test_split\n",
    "import PIL\n",
    "\n",
    "import torch\n",
    "import torch.nn.functional as F\n",
    "from torch import nn\n",
    "from torch.utils.data import Dataset, DataLoader\n",
    "from torchvision.io import read_image\n",
    "import torchvision.transforms as transforms\n",
    "import torchvision.transforms.functional as tF\n",
    "import torchvision.models as models"
   ]
  },
  {
   "cell_type": "code",
   "execution_count": 363,
   "id": "a38525ac",
   "metadata": {},
   "outputs": [],
   "source": [
    "%matplotlib inline\n",
    "\n",
    "# Enable/Disable GPU \n",
    "device = torch.device('cuda:0' if torch.cuda.is_available() else 'cpu')"
   ]
  },
  {
   "cell_type": "code",
   "execution_count": 364,
   "id": "b2610232",
   "metadata": {},
   "outputs": [
    {
     "data": {
      "text/plain": [
       "device(type='cuda', index=0)"
      ]
     },
     "execution_count": 364,
     "metadata": {},
     "output_type": "execute_result"
    }
   ],
   "source": [
    "device"
   ]
  },
  {
   "cell_type": "markdown",
   "id": "59985ba2",
   "metadata": {},
   "source": [
    "### Create custom dataset"
   ]
  },
  {
   "cell_type": "code",
   "execution_count": 365,
   "id": "26a12b5c",
   "metadata": {},
   "outputs": [],
   "source": [
    "class CustomImageDataset(Dataset):\n",
    "    def __init__(self, annotations_file, img_labels, img_labels_train, img_labels_test, img_dir, transform=None, flag=False):\n",
    "        \n",
    "        if flag == 1:\n",
    "            self.img_labels = img_labels_test\n",
    "        elif flag == 0:\n",
    "            self.img_labels = img_labels_train\n",
    "        else:\n",
    "            self.img_labels = img_labels\n",
    "\n",
    "        self.img_dir = img_dir\n",
    "        self.transform = transform\n",
    "\n",
    "    def __len__(self):\n",
    "        return len(self.img_labels)\n",
    "\n",
    "    def __getitem__(self, idx):\n",
    "        img_path = os.path.join(self.img_dir, self.img_labels.iloc[idx, 0])\n",
    "        image = read_image(img_path)\n",
    "        label = self.img_labels.iloc[idx, 1]\n",
    "\n",
    "        \n",
    "        if self.transform:\n",
    "            image = self.transform(image)\n",
    "            \n",
    "        return image.float(), label\n",
    "    "
   ]
  },
  {
   "cell_type": "code",
   "execution_count": 366,
   "id": "33e15a03",
   "metadata": {},
   "outputs": [],
   "source": [
    "def split_data(annotations_file):\n",
    "    img_labels = pd.read_csv(annotations_file, header = 0)\n",
    "    img_labels_train, img_labels_test, _, _ = train_test_split(\n",
    "                                                    img_labels,\n",
    "                                                    img_labels['champion_onehot'],\n",
    "                                                    test_size=0.2,\n",
    "                                                    random_state = 0,\n",
    "                                                    stratify=img_labels['champion_onehot'])\n",
    "\n",
    "    print(len(np.unique(img_labels_train['champion_onehot'])))\n",
    "    print(len(np.unique(img_labels_train['champion_name'])))\n",
    "    print(len(np.unique(img_labels_test['champion_onehot'])))\n",
    "    print(len(np.unique(img_labels_test['champion_name'])))\n",
    "\n",
    "    \n",
    "    return img_labels_train, img_labels_test\n",
    "    "
   ]
  },
  {
   "cell_type": "code",
   "execution_count": 367,
   "id": "cfd3287d",
   "metadata": {},
   "outputs": [
    {
     "name": "stdout",
     "output_type": "stream",
     "text": [
      "85\n",
      "85\n",
      "78\n",
      "78\n"
     ]
    }
   ],
   "source": [
    "annotations_file = './data/annotation_final_file.csv'\n",
    "# batch_size = 4\n",
    "batch_size = 64\n",
    "\n",
    "transform = transforms.Compose(\n",
    "    [transforms.RandomVerticalFlip(p=0.5),\n",
    "     transforms.RandomHorizontalFlip(p=0.5)])\n",
    "\n",
    "img_labels_train, img_labels_test = split_data(annotations_file=annotations_file)\n",
    "\n",
    "img_labels = pd.read_csv(annotations_file, header = 0)\n",
    "\n",
    "trainset = CustomImageDataset(annotations_file = annotations_file,\n",
    "                              img_labels = img_labels, \n",
    "                              img_labels_train = img_labels_train, \n",
    "                              img_labels_test = img_labels_test,\n",
    "                              img_dir='./data/champion-classifier', transform=None, flag=0)\n",
    "trainloader = torch.utils.data.DataLoader(trainset, batch_size=batch_size, num_workers=0, shuffle=False)\n",
    "\n",
    "testset = CustomImageDataset(annotations_file = annotations_file, \n",
    "                              img_labels = img_labels, \n",
    "                              img_labels_train = img_labels_train, \n",
    "                              img_labels_test = img_labels_test,\n",
    "                              img_dir='./data/champion-classifier', transform=None, flag=1)\n",
    "testloader = torch.utils.data.DataLoader(testset, batch_size=batch_size, num_workers=0, shuffle=False)\n",
    "\n",
    "\n",
    "# trainset = CustomImageDataset(annotations_file = './data/annotation_final_file_champ_only.csv', \n",
    "#                               img_dir='./data/champion-classifier', transform=None, flag=0)\n",
    "# trainloader = torch.utils.data.DataLoader(trainset, batch_size=batch_size, num_workers=0, shuffle=True)\n",
    "\n",
    "# testset = CustomImageDataset(annotations_file = './data/annotation_final_file_champ_only.csv', \n",
    "#                               img_dir='./data/champion-classifier', transform=None, flag=1)\n",
    "# testloader = torch.utils.data.DataLoader(testset, batch_size=batch_size, num_workers=0, shuffle=True)\n",
    "\n"
   ]
  },
  {
   "cell_type": "markdown",
   "id": "26ea845c",
   "metadata": {},
   "source": [
    "### resNet18"
   ]
  },
  {
   "cell_type": "code",
   "execution_count": 368,
   "id": "fbba6d2b",
   "metadata": {},
   "outputs": [],
   "source": [
    "class Champion_Net(nn.Module):\n",
    "    def __init__(self, num_classes, criterion):\n",
    "        super(Champion_Net, self).__init__()\n",
    "\n",
    "        # Implement me\n",
    "        model_ft = models.resnet18()\n",
    "        model_ft.fc = nn.Linear(512, num_classes)\n",
    "        \n",
    "        self.model = model_ft\n",
    "        self.criterion = criterion\n",
    "        self.sigmoid = nn.Sigmoid()\n",
    "        \n",
    "    def forward(self, inp):\n",
    "        \n",
    "        pred = self.model(inp)\n",
    "        return pred"
   ]
  },
  {
   "cell_type": "code",
   "execution_count": 369,
   "id": "29d41640",
   "metadata": {},
   "outputs": [],
   "source": [
    "def train_model(model, dataloaders, optimizer, num_epochs=25):\n",
    "    \n",
    "    since = time.time()\n",
    "    acc_list = []\n",
    "    model.train() # In training mode\n",
    "\n",
    "    for epoch in range(num_epochs):\n",
    "        print('Epoch {}/{}'.format(epoch, num_epochs - 1))\n",
    "        print('-' * 10)\n",
    "\n",
    "        running_loss = 0.0\n",
    "        running_corrects = 0\n",
    "\n",
    "        # Iterate over data.\n",
    "        for inputs, labels in dataloaders:\n",
    "            inputs = inputs.to(device)\n",
    "            labels = labels.to(device)\n",
    "\n",
    "            # zero the parameter gradients\n",
    "            optimizer.zero_grad()\n",
    "\n",
    "            # forward\n",
    "            outputs = model(inputs)\n",
    "            loss = model.criterion(outputs, labels)\n",
    "\n",
    "            _, preds = torch.max(outputs, 1)\n",
    "\n",
    "            # backward + optimize only if in training phase\n",
    "            loss.backward()\n",
    "            optimizer.step()\n",
    "\n",
    "            # statistics\n",
    "            running_loss += loss.item() * inputs.size(0)\n",
    "            running_corrects += torch.sum(preds == labels.data)\n",
    "\n",
    "        # Epoch information\n",
    "        epoch_loss = running_loss / len(dataloaders.dataset)\n",
    "        epoch_acc = running_corrects.double() / len(dataloaders.dataset)\n",
    "        acc_list.append(epoch_acc)\n",
    "\n",
    "        print('Training Loss: {:.4f} Acc: {:.4f}'.format(epoch_loss, epoch_acc))\n",
    "\n",
    "\n",
    "    time_elapsed = time.time() - since\n",
    "    print('Training complete in {:.0f}m {:.0f}s'.format(time_elapsed // 60, time_elapsed % 60))\n",
    "    \n",
    "    return acc_list"
   ]
  },
  {
   "cell_type": "code",
   "execution_count": 370,
   "id": "a55ef055",
   "metadata": {},
   "outputs": [],
   "source": [
    "def eval_model(model, dataloaders):\n",
    "    \n",
    "    since = time.time()\n",
    "    model.eval() # In training mode\n",
    "\n",
    "    running_loss = 0.0\n",
    "    running_corrects = 0\n",
    "\n",
    "    # Iterate over data.\n",
    "    for inputs, labels in dataloaders:\n",
    "        inputs = inputs.to(device)\n",
    "        labels = labels.to(device)\n",
    "        \n",
    "        with torch.no_grad():\n",
    "\n",
    "            # forward\n",
    "            outputs = model(inputs)\n",
    "            loss = model.criterion(outputs, labels)\n",
    "\n",
    "            _, preds = torch.max(outputs, 1)\n",
    "\n",
    "            # statistics\n",
    "            running_loss += loss.item() * inputs.size(0)\n",
    "            running_corrects += torch.sum(preds == labels.data)\n",
    "\n",
    "    overall_loss = running_loss / len(dataloaders.dataset)\n",
    "    overall_acc = running_corrects.double() / len(dataloaders.dataset)\n",
    "\n",
    "    print('Evaluation Loss: {:.4f} Acc: {:.4f}'.format(overall_loss, overall_acc))\n",
    "\n",
    "\n",
    "    time_elapsed = time.time() - since\n",
    "    print('Training complete in {:.0f}m {:.0f}s'.format(time_elapsed // 60, time_elapsed % 60))\n",
    "    \n",
    "    return overall_acc"
   ]
  },
  {
   "cell_type": "code",
   "execution_count": 371,
   "id": "05ee4afd",
   "metadata": {},
   "outputs": [],
   "source": [
    "def vec2Champ(vec):\n",
    "\n",
    "    with open(\"data/master_champ_list.pkl\", \"rb\") as input_file:\n",
    "        master_champ_list = pickle.load(input_file)\n",
    "        \n",
    "    vec2Champ = {i : champ for i, champ in enumerate(master_champ_list)}\n",
    "    champ = [vec2Champ.get(i) for i in vec]\n",
    "    \n",
    "    return champ"
   ]
  },
  {
   "cell_type": "code",
   "execution_count": 372,
   "id": "475bfa83",
   "metadata": {},
   "outputs": [],
   "source": [
    "def model_pred(model, dataloaders):\n",
    "    \n",
    "    since = time.time()\n",
    "    model.eval() # In prediction mode\n",
    "\n",
    "    labels = []\n",
    "    gt = []\n",
    "\n",
    "    # Iterate over data.\n",
    "    for inputs, groundTruth in dataloaders:\n",
    "        inputs = inputs.to(device)\n",
    "        \n",
    "        with torch.no_grad():\n",
    "\n",
    "            # forward\n",
    "            outputs = model(inputs)\n",
    "            _, preds = torch.max(outputs, 1)\n",
    "            labels += preds.tolist()\n",
    "            gt += groundTruth.tolist()\n",
    "\n",
    "\n",
    "    time_elapsed = time.time() - since\n",
    "    print('Prediction complete in {:.0f}m {:.0f}s'.format(time_elapsed // 60, time_elapsed % 60))\n",
    "    \n",
    "    return labels, vec2Champ(labels), gt"
   ]
  },
  {
   "cell_type": "markdown",
   "id": "df94c8bf",
   "metadata": {},
   "source": [
    "### Training"
   ]
  },
  {
   "cell_type": "code",
   "execution_count": 373,
   "id": "7e198f81",
   "metadata": {},
   "outputs": [],
   "source": [
    "champion_classifer = Champion_Net(86, nn.CrossEntropyLoss()).cuda()"
   ]
  },
  {
   "cell_type": "code",
   "execution_count": 374,
   "id": "fc28939d",
   "metadata": {},
   "outputs": [],
   "source": [
    "optimizer_SGD = torch.optim.SGD(champion_classifer.parameters(), lr=0.01, momentum=0.9)"
   ]
  },
  {
   "cell_type": "code",
   "execution_count": 375,
   "id": "ca7830bf",
   "metadata": {},
   "outputs": [
    {
     "name": "stdout",
     "output_type": "stream",
     "text": [
      "Epoch 0/4\n",
      "----------\n",
      "Training Loss: 1.7941 Acc: 0.6850\n",
      "Epoch 1/4\n",
      "----------\n",
      "Training Loss: 1.1851 Acc: 0.7458\n",
      "Epoch 2/4\n",
      "----------\n",
      "Training Loss: 0.8730 Acc: 0.8042\n",
      "Epoch 3/4\n",
      "----------\n",
      "Training Loss: 0.6000 Acc: 0.8698\n",
      "Epoch 4/4\n",
      "----------\n",
      "Training Loss: 0.3896 Acc: 0.9275\n",
      "Training complete in 0m 10s\n"
     ]
    },
    {
     "data": {
      "text/plain": [
       "[tensor(0.6850, device='cuda:0', dtype=torch.float64),\n",
       " tensor(0.7458, device='cuda:0', dtype=torch.float64),\n",
       " tensor(0.8042, device='cuda:0', dtype=torch.float64),\n",
       " tensor(0.8698, device='cuda:0', dtype=torch.float64),\n",
       " tensor(0.9275, device='cuda:0', dtype=torch.float64)]"
      ]
     },
     "execution_count": 375,
     "metadata": {},
     "output_type": "execute_result"
    }
   ],
   "source": [
    "train_model(champion_classifer, trainloader, optimizer_SGD, 5)"
   ]
  },
  {
   "cell_type": "markdown",
   "id": "0be5f898",
   "metadata": {},
   "source": [
    "### Evaluation"
   ]
  },
  {
   "cell_type": "code",
   "execution_count": 376,
   "id": "ce202e0d",
   "metadata": {},
   "outputs": [
    {
     "name": "stdout",
     "output_type": "stream",
     "text": [
      "Evaluation Loss: 0.9573 Acc: 0.7894\n",
      "Training complete in 0m 0s\n"
     ]
    },
    {
     "data": {
      "text/plain": [
       "tensor(0.7894, device='cuda:0', dtype=torch.float64)"
      ]
     },
     "execution_count": 376,
     "metadata": {},
     "output_type": "execute_result"
    }
   ],
   "source": [
    "eval_model(champion_classifer, testloader)"
   ]
  },
  {
   "cell_type": "code",
   "execution_count": 377,
   "id": "8c1e9d9a",
   "metadata": {},
   "outputs": [
    {
     "name": "stdout",
     "output_type": "stream",
     "text": [
      "Prediction complete in 0m 0s\n"
     ]
    }
   ],
   "source": [
    "# Make prediction \n",
    "lab_test, champ_test, gt = model_pred(champion_classifer, testloader)"
   ]
  },
  {
   "cell_type": "code",
   "execution_count": null,
   "id": "74402cf2",
   "metadata": {},
   "outputs": [],
   "source": []
  },
  {
   "cell_type": "code",
   "execution_count": 378,
   "id": "62a6d73a",
   "metadata": {},
   "outputs": [
    {
     "name": "stderr",
     "output_type": "stream",
     "text": [
      "<ipython-input-378-2c0329542983>:14: RuntimeWarning: invalid value encountered in true_divide\n",
      "  np.divide(np.diag(cf_m), np.sum(cf_m, axis = 1))\n"
     ]
    },
    {
     "data": {
      "text/plain": [
       "0.36574074074074076"
      ]
     },
     "execution_count": 378,
     "metadata": {},
     "output_type": "execute_result"
    }
   ],
   "source": [
    "with open(\"data/master_champ_list.pkl\", \"rb\") as input_file:\n",
    "    master_champ_list = pickle.load(input_file)\n",
    "\n",
    "gt_original = list(img_labels_test.champion_onehot)\n",
    "champ_original = list(img_labels_test.champion_name)\n",
    "\n",
    "\n",
    "# Calculate confision matrix + accuracy per class\n",
    "\n",
    "# C_ij, in group i, predicted group j\n",
    "cf_m = confusion_matrix(y_true = champ_original, y_pred = champ_test, labels=master_champ_list)\n",
    "\n",
    "\n",
    "np.divide(np.diag(cf_m), np.sum(cf_m, axis = 1))\n",
    "\n",
    "\n",
    "\n",
    "np.sum(np.diag(cf_m[:-1, :-1]))/np.sum(cf_m[:-1, :-1])"
   ]
  },
  {
   "cell_type": "code",
   "execution_count": null,
   "id": "5a331386",
   "metadata": {},
   "outputs": [],
   "source": []
  },
  {
   "cell_type": "code",
   "execution_count": 379,
   "id": "d175a088",
   "metadata": {},
   "outputs": [
    {
     "data": {
      "text/plain": [
       "0.9785330948121646"
      ]
     },
     "execution_count": 379,
     "metadata": {},
     "output_type": "execute_result"
    }
   ],
   "source": [
    "# Confusion matrix test\n",
    "cf_m[-1, -1]/np.sum(cf_m[-1])"
   ]
  },
  {
   "cell_type": "markdown",
   "id": "dbd2ab1b",
   "metadata": {},
   "source": [
    "### Batch First"
   ]
  },
  {
   "cell_type": "code",
   "execution_count": null,
   "id": "993fcaf1",
   "metadata": {},
   "outputs": [],
   "source": [
    "# Batch 1\n",
    "BatchSet_1 = CustomImageDataset(annotations_file = './data/batch-data-0/annotation_file-0.csv', \n",
    "                              img_dir='./data/batch-data-0', transform=None, test=2)\n",
    "BatchSetLoader_1 = torch.utils.data.DataLoader(BatchSet_1, batch_size=10, num_workers=0, shuffle=True)"
   ]
  },
  {
   "cell_type": "code",
   "execution_count": null,
   "id": "16c31b04",
   "metadata": {},
   "outputs": [],
   "source": [
    "df = pd.read_csv(os.path.join(os.getcwd(), 'data', 'batch-data-0', 'annotation_file-0.csv'), index_col=False)\n",
    "\n",
    "df.champion_name = champ_1\n",
    "df.champion_onehot = lab_1\n",
    "\n",
    "df.to_csv(os.path.join(os.getcwd(), 'data', 'batch-data-0', 'annotation_file-0.csv'), index = False)"
   ]
  },
  {
   "cell_type": "markdown",
   "id": "37206de1",
   "metadata": {},
   "source": [
    "### Save / Load"
   ]
  },
  {
   "cell_type": "code",
   "execution_count": null,
   "id": "cf022263",
   "metadata": {},
   "outputs": [],
   "source": [
    "torch.save(champion_classifer.state_dict(), './model/champion_classifier_bin0.pt')"
   ]
  },
  {
   "cell_type": "code",
   "execution_count": null,
   "id": "75282486",
   "metadata": {},
   "outputs": [],
   "source": [
    "champion_classifer = Champion_Net(86, nn.CrossEntropyLoss()).to(device)\n",
    "champion_classifer.load_state_dict(torch.load('./model/champion_classifier_bin0.pt', \n",
    "                                              map_location=device))"
   ]
  },
  {
   "cell_type": "markdown",
   "id": "040ebc50",
   "metadata": {},
   "source": [
    "### Predict currently trained model on master data sheet"
   ]
  },
  {
   "cell_type": "code",
   "execution_count": null,
   "id": "579a8671",
   "metadata": {},
   "outputs": [],
   "source": [
    "master_data_path = os.path.join(os.getcwd(), '')\n",
    "\n",
    "master_data = pd.read_csv()"
   ]
  },
  {
   "cell_type": "code",
   "execution_count": null,
   "id": "1a6aa32f",
   "metadata": {},
   "outputs": [],
   "source": []
  },
  {
   "cell_type": "code",
   "execution_count": null,
   "id": "ab1c85a4",
   "metadata": {},
   "outputs": [],
   "source": []
  },
  {
   "cell_type": "code",
   "execution_count": null,
   "id": "6e613199",
   "metadata": {},
   "outputs": [],
   "source": []
  }
 ],
 "metadata": {
  "kernelspec": {
   "display_name": "Python 3",
   "language": "python",
   "name": "python3"
  },
  "language_info": {
   "codemirror_mode": {
    "name": "ipython",
    "version": 3
   },
   "file_extension": ".py",
   "mimetype": "text/x-python",
   "name": "python",
   "nbconvert_exporter": "python",
   "pygments_lexer": "ipython3",
   "version": "3.8.8"
  }
 },
 "nbformat": 4,
 "nbformat_minor": 5
}
