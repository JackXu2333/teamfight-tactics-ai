{
 "cells": [
  {
   "cell_type": "code",
   "execution_count": 2,
   "id": "25d97d98",
   "metadata": {},
   "outputs": [],
   "source": [
    "# Python Libraries\n",
    "import random\n",
    "import math\n",
    "import numbers\n",
    "import platform\n",
    "import copy\n",
    "import os\n",
    "import time\n",
    "\n",
    "# Importing essential libraries for basic image manipulations.\n",
    "import numpy as np\n",
    "import pandas as pd\n",
    "import matplotlib.pyplot as plt\n",
    "import PIL\n",
    "\n",
    "import torch\n",
    "import torch.nn.functional as F\n",
    "from torch import nn\n",
    "from torch.utils.data import Dataset, DataLoader\n",
    "from torchvision.io import read_image\n",
    "import torchvision.transforms as transforms\n",
    "import torchvision.transforms.functional as tF\n",
    "import torchvision.models as models"
   ]
  },
  {
   "cell_type": "code",
   "execution_count": 3,
   "id": "a38525ac",
   "metadata": {},
   "outputs": [],
   "source": [
    "%matplotlib inline\n",
    "\n",
    "# Enable/Disable GPU \n",
    "device = torch.device('cuda:0' if torch.cuda.is_available() else 'cpu')"
   ]
  },
  {
   "cell_type": "markdown",
   "id": "59985ba2",
   "metadata": {},
   "source": [
    "### Create custom dataset"
   ]
  },
  {
   "cell_type": "code",
   "execution_count": 4,
   "id": "26a12b5c",
   "metadata": {},
   "outputs": [],
   "source": [
    "class CustomImageDataset(Dataset):\n",
    "    def __init__(self, annotations_file, img_dir, transform=None, test=False):\n",
    "        img_labels = pd.read_csv(annotations_file, header = 0)\n",
    "        if test:\n",
    "            self.img_labels = img_labels.iloc[round(0.9 * img_labels.shape[0]):] \n",
    "        else:\n",
    "            self.img_labels = img_labels.iloc[:round(0.9 * img_labels.shape[0])]\n",
    "        self.img_dir = img_dir\n",
    "        self.transform = transform\n",
    "\n",
    "    def __len__(self):\n",
    "        return len(self.img_labels)\n",
    "\n",
    "    def __getitem__(self, idx):\n",
    "        img_path = os.path.join(self.img_dir, self.img_labels.iloc[idx, 1])\n",
    "        image = read_image(img_path)\n",
    "        label = self.img_labels.iloc[idx, 2]\n",
    "        if self.transform:\n",
    "            image = self.transform(image)\n",
    "        return image.float(), label"
   ]
  },
  {
   "cell_type": "code",
   "execution_count": 5,
   "id": "cfd3287d",
   "metadata": {},
   "outputs": [],
   "source": [
    "batch_size = 4\n",
    "\n",
    "transform = transforms.Compose(\n",
    "    [transforms.RandomVerticalFlip(p=0.5),\n",
    "     transforms.RandomHorizontalFlip(p=0.5)])\n",
    "\n",
    "trainset = CustomImageDataset(annotations_file = './data/annotation_file.csv', \n",
    "                              img_dir='./data/champion-classifier', transform=transform, test=False)\n",
    "trainloader = torch.utils.data.DataLoader(trainset, batch_size=batch_size, num_workers=0, shuffle=True)\n",
    "\n",
    "testset = CustomImageDataset(annotations_file = './data/annotation_file.csv', \n",
    "                              img_dir='./data/champion-classifier', transform=None, test=True)\n",
    "testloader = torch.utils.data.DataLoader(testset, batch_size=batch_size, num_workers=0, shuffle=True)"
   ]
  },
  {
   "cell_type": "markdown",
   "id": "26ea845c",
   "metadata": {},
   "source": [
    "### resNet18"
   ]
  },
  {
   "cell_type": "code",
   "execution_count": 6,
   "id": "fbba6d2b",
   "metadata": {},
   "outputs": [],
   "source": [
    "class Champion_Net(nn.Module):\n",
    "    def __init__(self, num_classes, criterion):\n",
    "        super(Champion_Net, self).__init__()\n",
    "\n",
    "        # Implement me\n",
    "        model_ft = models.resnet18()\n",
    "        model_ft.fc = nn.Linear(512, num_classes)\n",
    "        \n",
    "        self.model = model_ft\n",
    "        self.criterion = criterion\n",
    "        self.sigmoid = nn.Sigmoid()\n",
    "        \n",
    "    def forward(self, inp):\n",
    "        \n",
    "        pred = self.model(inp)\n",
    "        return pred"
   ]
  },
  {
   "cell_type": "code",
   "execution_count": 7,
   "id": "29d41640",
   "metadata": {},
   "outputs": [],
   "source": [
    "def train_model(model, dataloaders, optimizer, num_epochs=25):\n",
    "    \n",
    "    since = time.time()\n",
    "    acc_list = []\n",
    "    model.train() # In training mode\n",
    "\n",
    "    for epoch in range(num_epochs):\n",
    "        print('Epoch {}/{}'.format(epoch, num_epochs - 1))\n",
    "        print('-' * 10)\n",
    "\n",
    "        running_loss = 0.0\n",
    "        running_corrects = 0\n",
    "\n",
    "        # Iterate over data.\n",
    "        for inputs, labels in dataloaders:\n",
    "            inputs = inputs.to(device)\n",
    "            labels = labels.to(device)\n",
    "\n",
    "            # zero the parameter gradients\n",
    "            optimizer.zero_grad()\n",
    "\n",
    "            # forward\n",
    "            outputs = model(inputs)\n",
    "            loss = model.criterion(outputs, labels)\n",
    "\n",
    "            _, preds = torch.max(outputs, 1)\n",
    "\n",
    "            # backward + optimize only if in training phase\n",
    "            loss.backward()\n",
    "            optimizer.step()\n",
    "\n",
    "            # statistics\n",
    "            running_loss += loss.item() * inputs.size(0)\n",
    "            running_corrects += torch.sum(preds == labels.data)\n",
    "\n",
    "        # Epoch information\n",
    "        epoch_loss = running_loss / len(dataloaders.dataset)\n",
    "        epoch_acc = running_corrects.double() / len(dataloaders.dataset)\n",
    "        acc_list.append(epoch_acc)\n",
    "\n",
    "        print('Training Loss: {:.4f} Acc: {:.4f}'.format(epoch_loss, epoch_acc))\n",
    "\n",
    "\n",
    "    time_elapsed = time.time() - since\n",
    "    print('Training complete in {:.0f}m {:.0f}s'.format(time_elapsed // 60, time_elapsed % 60))\n",
    "    \n",
    "    return acc_list"
   ]
  },
  {
   "cell_type": "code",
   "execution_count": 8,
   "id": "a55ef055",
   "metadata": {},
   "outputs": [],
   "source": [
    "def eval_model(model, dataloaders):\n",
    "    \n",
    "    since = time.time()\n",
    "    model.eval() # In training mode\n",
    "\n",
    "    running_loss = 0.0\n",
    "    running_corrects = 0\n",
    "\n",
    "    # Iterate over data.\n",
    "    for inputs, labels in dataloaders:\n",
    "        inputs = inputs.to(device)\n",
    "        labels = labels.to(device)\n",
    "        \n",
    "        with torch.no_grad():\n",
    "\n",
    "            # forward\n",
    "            outputs = model(inputs)\n",
    "            loss = model.criterion(outputs, labels)\n",
    "\n",
    "            _, preds = torch.max(outputs, 1)\n",
    "\n",
    "            # statistics\n",
    "            running_loss += loss.item() * inputs.size(0)\n",
    "            running_corrects += torch.sum(preds == labels.data)\n",
    "\n",
    "    overall_loss = running_loss / len(dataloaders.dataset)\n",
    "    overall_acc = running_corrects.double() / len(dataloaders.dataset)\n",
    "\n",
    "    print('Evaluation Loss: {:.4f} Acc: {:.4f}'.format(overall_loss, overall_acc))\n",
    "\n",
    "\n",
    "    time_elapsed = time.time() - since\n",
    "    print('Training complete in {:.0f}m {:.0f}s'.format(time_elapsed // 60, time_elapsed % 60))\n",
    "    \n",
    "    return overall_acc"
   ]
  },
  {
   "cell_type": "markdown",
   "id": "df94c8bf",
   "metadata": {},
   "source": [
    "### Training"
   ]
  },
  {
   "cell_type": "code",
   "execution_count": 37,
   "id": "7e198f81",
   "metadata": {},
   "outputs": [],
   "source": [
    "champion_classifer = Champion_Net(86, nn.CrossEntropyLoss()).to(device)"
   ]
  },
  {
   "cell_type": "code",
   "execution_count": 38,
   "id": "fc28939d",
   "metadata": {},
   "outputs": [],
   "source": [
    "optimizer_SGD = torch.optim.SGD(champion_classifer.parameters(), lr=0.01, momentum=0.9)"
   ]
  },
  {
   "cell_type": "code",
   "execution_count": 43,
   "id": "ca7830bf",
   "metadata": {},
   "outputs": [
    {
     "name": "stdout",
     "output_type": "stream",
     "text": [
      "Epoch 0/7\n",
      "----------\n",
      "Training Loss: 0.5141 Acc: 0.8537\n",
      "Epoch 1/7\n",
      "----------\n",
      "Training Loss: 0.4893 Acc: 0.8577\n",
      "Epoch 2/7\n",
      "----------\n",
      "Training Loss: 0.3591 Acc: 0.8976\n",
      "Epoch 3/7\n",
      "----------\n",
      "Training Loss: 0.3938 Acc: 0.8856\n",
      "Epoch 4/7\n",
      "----------\n",
      "Training Loss: 0.3285 Acc: 0.9082\n",
      "Epoch 5/7\n",
      "----------\n",
      "Training Loss: 0.2435 Acc: 0.9375\n",
      "Epoch 6/7\n",
      "----------\n",
      "Training Loss: 0.2749 Acc: 0.9215\n",
      "Epoch 7/7\n",
      "----------\n",
      "Training Loss: 0.2055 Acc: 0.9428\n",
      "Training complete in 0m 17s\n"
     ]
    },
    {
     "data": {
      "text/plain": [
       "[tensor(0.8537, device='cuda:0', dtype=torch.float64),\n",
       " tensor(0.8577, device='cuda:0', dtype=torch.float64),\n",
       " tensor(0.8976, device='cuda:0', dtype=torch.float64),\n",
       " tensor(0.8856, device='cuda:0', dtype=torch.float64),\n",
       " tensor(0.9082, device='cuda:0', dtype=torch.float64),\n",
       " tensor(0.9375, device='cuda:0', dtype=torch.float64),\n",
       " tensor(0.9215, device='cuda:0', dtype=torch.float64),\n",
       " tensor(0.9428, device='cuda:0', dtype=torch.float64)]"
      ]
     },
     "execution_count": 43,
     "metadata": {},
     "output_type": "execute_result"
    }
   ],
   "source": [
    "train_model(champion_classifer, trainloader, optimizer_SGD, 8)"
   ]
  },
  {
   "cell_type": "markdown",
   "id": "dbd2ab1b",
   "metadata": {},
   "source": [
    "### Validating"
   ]
  },
  {
   "cell_type": "code",
   "execution_count": 13,
   "id": "993fcaf1",
   "metadata": {},
   "outputs": [
    {
     "name": "stdout",
     "output_type": "stream",
     "text": [
      "Evaluation Loss: 5.9401 Acc: 0.2857\n",
      "Training complete in 0m 1s\n"
     ]
    },
    {
     "data": {
      "text/plain": [
       "tensor(0.2857, dtype=torch.float64)"
      ]
     },
     "execution_count": 13,
     "metadata": {},
     "output_type": "execute_result"
    }
   ],
   "source": [
    "eval_model(champion_classifer, testloader)"
   ]
  },
  {
   "cell_type": "markdown",
   "id": "37206de1",
   "metadata": {},
   "source": [
    "### Save / Load"
   ]
  },
  {
   "cell_type": "code",
   "execution_count": 48,
   "id": "cf022263",
   "metadata": {},
   "outputs": [],
   "source": [
    "torch.save(champion_classifer.state_dict(), './model/champion_classifier_bin0.pt')"
   ]
  },
  {
   "cell_type": "code",
   "execution_count": 12,
   "id": "75282486",
   "metadata": {},
   "outputs": [
    {
     "data": {
      "text/plain": [
       "<All keys matched successfully>"
      ]
     },
     "execution_count": 12,
     "metadata": {},
     "output_type": "execute_result"
    }
   ],
   "source": [
    "champion_classifer = Champion_Net(86, nn.CrossEntropyLoss()).to(device)\n",
    "champion_classifer.load_state_dict(torch.load('./model/champion_classifier_bin0.pt', \n",
    "                                              map_location=device))"
   ]
  },
  {
   "cell_type": "code",
   "execution_count": 13,
   "id": "149e974e",
   "metadata": {},
   "outputs": [],
   "source": [
    "# champion_classifer.eval()\n",
    "# pred = champion_classifer(inp.float().to(device))"
   ]
  },
  {
   "cell_type": "code",
   "execution_count": 14,
   "id": "8306de0e",
   "metadata": {},
   "outputs": [],
   "source": [
    "# pred"
   ]
  },
  {
   "cell_type": "code",
   "execution_count": 10,
   "id": "ee4bb1aa",
   "metadata": {},
   "outputs": [
    {
     "data": {
      "text/plain": [
       "device(type='cpu')"
      ]
     },
     "execution_count": 10,
     "metadata": {},
     "output_type": "execute_result"
    }
   ],
   "source": [
    "device"
   ]
  },
  {
   "cell_type": "code",
   "execution_count": null,
   "id": "bcdfa625",
   "metadata": {},
   "outputs": [],
   "source": []
  }
 ],
 "metadata": {
  "kernelspec": {
   "display_name": "Python 3",
   "language": "python",
   "name": "python3"
  },
  "language_info": {
   "codemirror_mode": {
    "name": "ipython",
    "version": 3
   },
   "file_extension": ".py",
   "mimetype": "text/x-python",
   "name": "python",
   "nbconvert_exporter": "python",
   "pygments_lexer": "ipython3",
   "version": "3.8.8"
  }
 },
 "nbformat": 4,
 "nbformat_minor": 5
}
