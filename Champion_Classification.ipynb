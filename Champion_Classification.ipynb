{
 "cells": [
  {
   "cell_type": "code",
   "execution_count": 32,
   "id": "25d97d98",
   "metadata": {},
   "outputs": [],
   "source": [
    "# Python Libraries\n",
    "import random\n",
    "import math\n",
    "import numbers\n",
    "import platform\n",
    "import copy\n",
    "import os\n",
    "import time\n",
    "import pickle\n",
    "\n",
    "# Importing essential libraries for basic image manipulations.\n",
    "import numpy as np\n",
    "import pandas as pd\n",
    "import matplotlib.pyplot as plt\n",
    "from sklearn.metrics import confusion_matrix\n",
    "import PIL\n",
    "\n",
    "import torch\n",
    "import torch.nn.functional as F\n",
    "from torch import nn\n",
    "from torch.utils.data import Dataset, DataLoader\n",
    "from torchvision.io import read_image\n",
    "import torchvision.transforms as transforms\n",
    "import torchvision.transforms.functional as tF\n",
    "import torchvision.models as models"
   ]
  },
  {
   "cell_type": "code",
   "execution_count": 2,
   "id": "a38525ac",
   "metadata": {},
   "outputs": [],
   "source": [
    "%matplotlib inline\n",
    "\n",
    "# Enable/Disable GPU \n",
    "device = torch.device('cuda:0' if torch.cuda.is_available() else 'cpu')"
   ]
  },
  {
   "cell_type": "markdown",
   "id": "59985ba2",
   "metadata": {},
   "source": [
    "### Create custom dataset"
   ]
  },
  {
   "cell_type": "code",
   "execution_count": 4,
   "id": "26a12b5c",
   "metadata": {},
   "outputs": [],
   "source": [
    "class CustomImageDataset(Dataset):\n",
    "    def __init__(self, annotations_file, img_dir, transform=None, flag=False):\n",
    "        img_labels = pd.read_csv(annotations_file, header = 0)\n",
    "        if flag == 1:\n",
    "            self.img_labels = img_labels.iloc[round(0.9 * img_labels.shape[0]):] \n",
    "        elif flag == 0:\n",
    "            self.img_labels = img_labels.iloc[:round(0.9 * img_labels.shape[0])]\n",
    "        else:\n",
    "            self.img_labels = img_labels\n",
    "        self.img_dir = img_dir\n",
    "        self.transform = transform\n",
    "\n",
    "    def __len__(self):\n",
    "        return len(self.img_labels)\n",
    "\n",
    "    def __getitem__(self, idx):\n",
    "        img_path = os.path.join(self.img_dir, self.img_labels.iloc[idx, 0])\n",
    "        image = read_image(img_path)\n",
    "        label = self.img_labels.iloc[idx, 1]\n",
    "        if self.transform:\n",
    "            image = self.transform(image)\n",
    "        return image.float(), label"
   ]
  },
  {
   "cell_type": "code",
   "execution_count": 5,
   "id": "cfd3287d",
   "metadata": {},
   "outputs": [],
   "source": [
    "batch_size = 4\n",
    "\n",
    "transform = transforms.Compose(\n",
    "    [transforms.RandomVerticalFlip(p=0.5),\n",
    "     transforms.RandomHorizontalFlip(p=0.5)])\n",
    "\n",
    "trainset = CustomImageDataset(annotations_file = './data/annotation_final_file.csv', \n",
    "                              img_dir='./data/champion-classifier', transform=transform, flag=0)\n",
    "trainloader = torch.utils.data.DataLoader(trainset, batch_size=batch_size, num_workers=0, shuffle=True)\n",
    "\n",
    "testset = CustomImageDataset(annotations_file = './data/annotation_final_file.csv', \n",
    "                              img_dir='./data/champion-classifier', transform=None, flag=1)\n",
    "testloader = torch.utils.data.DataLoader(testset, batch_size=batch_size, num_workers=0, shuffle=True)"
   ]
  },
  {
   "cell_type": "markdown",
   "id": "26ea845c",
   "metadata": {},
   "source": [
    "### resNet18"
   ]
  },
  {
   "cell_type": "code",
   "execution_count": 7,
   "id": "fbba6d2b",
   "metadata": {},
   "outputs": [],
   "source": [
    "class Champion_Net(nn.Module):\n",
    "    def __init__(self, num_classes, criterion):\n",
    "        super(Champion_Net, self).__init__()\n",
    "\n",
    "        # Implement me\n",
    "        model_ft = models.resnet18()\n",
    "        model_ft.fc = nn.Linear(512, num_classes)\n",
    "        \n",
    "        self.model = model_ft\n",
    "        self.criterion = criterion\n",
    "        self.sigmoid = nn.Sigmoid()\n",
    "        \n",
    "    def forward(self, inp):\n",
    "        \n",
    "        pred = self.model(inp)\n",
    "        return pred"
   ]
  },
  {
   "cell_type": "code",
   "execution_count": 8,
   "id": "29d41640",
   "metadata": {},
   "outputs": [],
   "source": [
    "def train_model(model, dataloaders, optimizer, num_epochs=25):\n",
    "    \n",
    "    since = time.time()\n",
    "    acc_list = []\n",
    "    model.train() # In training mode\n",
    "\n",
    "    for epoch in range(num_epochs):\n",
    "        print('Epoch {}/{}'.format(epoch, num_epochs - 1))\n",
    "        print('-' * 10)\n",
    "\n",
    "        running_loss = 0.0\n",
    "        running_corrects = 0\n",
    "\n",
    "        # Iterate over data.\n",
    "        for inputs, labels in dataloaders:\n",
    "            inputs = inputs.to(device)\n",
    "            labels = labels.to(device)\n",
    "\n",
    "            # zero the parameter gradients\n",
    "            optimizer.zero_grad()\n",
    "\n",
    "            # forward\n",
    "            outputs = model(inputs)\n",
    "            loss = model.criterion(outputs, labels)\n",
    "\n",
    "            _, preds = torch.max(outputs, 1)\n",
    "\n",
    "            # backward + optimize only if in training phase\n",
    "            loss.backward()\n",
    "            optimizer.step()\n",
    "\n",
    "            # statistics\n",
    "            running_loss += loss.item() * inputs.size(0)\n",
    "            running_corrects += torch.sum(preds == labels.data)\n",
    "\n",
    "        # Epoch information\n",
    "        epoch_loss = running_loss / len(dataloaders.dataset)\n",
    "        epoch_acc = running_corrects.double() / len(dataloaders.dataset)\n",
    "        acc_list.append(epoch_acc)\n",
    "\n",
    "        print('Training Loss: {:.4f} Acc: {:.4f}'.format(epoch_loss, epoch_acc))\n",
    "\n",
    "\n",
    "    time_elapsed = time.time() - since\n",
    "    print('Training complete in {:.0f}m {:.0f}s'.format(time_elapsed // 60, time_elapsed % 60))\n",
    "    \n",
    "    return acc_list"
   ]
  },
  {
   "cell_type": "code",
   "execution_count": 9,
   "id": "a55ef055",
   "metadata": {},
   "outputs": [],
   "source": [
    "def eval_model(model, dataloaders):\n",
    "    \n",
    "    since = time.time()\n",
    "    model.eval() # In training mode\n",
    "\n",
    "    running_loss = 0.0\n",
    "    running_corrects = 0\n",
    "\n",
    "    # Iterate over data.\n",
    "    for inputs, labels in dataloaders:\n",
    "        inputs = inputs.to(device)\n",
    "        labels = labels.to(device)\n",
    "        \n",
    "        with torch.no_grad():\n",
    "\n",
    "            # forward\n",
    "            outputs = model(inputs)\n",
    "            loss = model.criterion(outputs, labels)\n",
    "\n",
    "            _, preds = torch.max(outputs, 1)\n",
    "\n",
    "            # statistics\n",
    "            running_loss += loss.item() * inputs.size(0)\n",
    "            running_corrects += torch.sum(preds == labels.data)\n",
    "\n",
    "    overall_loss = running_loss / len(dataloaders.dataset)\n",
    "    overall_acc = running_corrects.double() / len(dataloaders.dataset)\n",
    "\n",
    "    print('Evaluation Loss: {:.4f} Acc: {:.4f}'.format(overall_loss, overall_acc))\n",
    "\n",
    "\n",
    "    time_elapsed = time.time() - since\n",
    "    print('Training complete in {:.0f}m {:.0f}s'.format(time_elapsed // 60, time_elapsed % 60))\n",
    "    \n",
    "    return overall_acc"
   ]
  },
  {
   "cell_type": "code",
   "execution_count": 10,
   "id": "05ee4afd",
   "metadata": {},
   "outputs": [],
   "source": [
    "def vec2Champ(vec):\n",
    "\n",
    "    with open(\"data/master_champ_list.pkl\", \"rb\") as input_file:\n",
    "        master_champ_list = pickle.load(input_file)\n",
    "        \n",
    "    vec2Champ = {i : champ for i, champ in enumerate(master_champ_list)}\n",
    "    champ = [vec2Champ.get(i) for i in vec]\n",
    "    \n",
    "    return champ"
   ]
  },
  {
   "cell_type": "code",
   "execution_count": 11,
   "id": "475bfa83",
   "metadata": {},
   "outputs": [],
   "source": [
    "def model_pred(model, dataloaders):\n",
    "    \n",
    "    since = time.time()\n",
    "    model.eval() # In prediction mode\n",
    "\n",
    "    labels = []\n",
    "\n",
    "    # Iterate over data.\n",
    "    for inputs, _ in dataloaders:\n",
    "        inputs = inputs.to(device)\n",
    "        \n",
    "        with torch.no_grad():\n",
    "\n",
    "            # forward\n",
    "            outputs = model(inputs)\n",
    "            _, preds = torch.max(outputs, 1)\n",
    "            labels += preds.tolist()\n",
    "\n",
    "\n",
    "    time_elapsed = time.time() - since\n",
    "    print('Prediction complete in {:.0f}m {:.0f}s'.format(time_elapsed // 60, time_elapsed % 60))\n",
    "    \n",
    "    return labels, vec2Champ(labels)"
   ]
  },
  {
   "cell_type": "markdown",
   "id": "df94c8bf",
   "metadata": {},
   "source": [
    "### Training"
   ]
  },
  {
   "cell_type": "code",
   "execution_count": 22,
   "id": "7e198f81",
   "metadata": {},
   "outputs": [],
   "source": [
    "champion_classifer = Champion_Net(86, nn.CrossEntropyLoss()).to(device)"
   ]
  },
  {
   "cell_type": "code",
   "execution_count": 23,
   "id": "fc28939d",
   "metadata": {},
   "outputs": [],
   "source": [
    "optimizer_SGD = torch.optim.SGD(champion_classifer.parameters(), lr=0.01, momentum=0.9)"
   ]
  },
  {
   "cell_type": "code",
   "execution_count": 24,
   "id": "ca7830bf",
   "metadata": {},
   "outputs": [
    {
     "name": "stdout",
     "output_type": "stream",
     "text": [
      "Epoch 0/14\n",
      "----------\n",
      "Training Loss: 1.9406 Acc: 0.6731\n",
      "Epoch 1/14\n",
      "----------\n",
      "Training Loss: 1.6048 Acc: 0.6849\n",
      "Epoch 2/14\n",
      "----------\n",
      "Training Loss: 1.4925 Acc: 0.6866\n",
      "Epoch 3/14\n",
      "----------\n",
      "Training Loss: 1.4836 Acc: 0.6925\n",
      "Epoch 4/14\n",
      "----------\n",
      "Training Loss: 1.4148 Acc: 0.6995\n",
      "Epoch 5/14\n",
      "----------\n",
      "Training Loss: 1.3203 Acc: 0.7101\n",
      "Epoch 6/14\n",
      "----------\n",
      "Training Loss: 1.2921 Acc: 0.7110\n",
      "Epoch 7/14\n",
      "----------\n",
      "Training Loss: 1.2245 Acc: 0.7253\n",
      "Epoch 8/14\n",
      "----------\n",
      "Training Loss: 1.1813 Acc: 0.7300\n",
      "Epoch 9/14\n",
      "----------\n",
      "Training Loss: 1.0914 Acc: 0.7496\n",
      "Epoch 10/14\n",
      "----------\n",
      "Training Loss: 1.0446 Acc: 0.7555\n",
      "Epoch 11/14\n",
      "----------\n",
      "Training Loss: 0.9800 Acc: 0.7634\n",
      "Epoch 12/14\n",
      "----------\n",
      "Training Loss: 0.9091 Acc: 0.7802\n",
      "Epoch 13/14\n",
      "----------\n",
      "Training Loss: 0.8527 Acc: 0.7909\n",
      "Epoch 14/14\n",
      "----------\n",
      "Training Loss: 0.7929 Acc: 0.8001\n",
      "Training complete in 2m 27s\n"
     ]
    },
    {
     "data": {
      "text/plain": [
       "[tensor(0.6731, device='cuda:0', dtype=torch.float64),\n",
       " tensor(0.6849, device='cuda:0', dtype=torch.float64),\n",
       " tensor(0.6866, device='cuda:0', dtype=torch.float64),\n",
       " tensor(0.6925, device='cuda:0', dtype=torch.float64),\n",
       " tensor(0.6995, device='cuda:0', dtype=torch.float64),\n",
       " tensor(0.7101, device='cuda:0', dtype=torch.float64),\n",
       " tensor(0.7110, device='cuda:0', dtype=torch.float64),\n",
       " tensor(0.7253, device='cuda:0', dtype=torch.float64),\n",
       " tensor(0.7300, device='cuda:0', dtype=torch.float64),\n",
       " tensor(0.7496, device='cuda:0', dtype=torch.float64),\n",
       " tensor(0.7555, device='cuda:0', dtype=torch.float64),\n",
       " tensor(0.7634, device='cuda:0', dtype=torch.float64),\n",
       " tensor(0.7802, device='cuda:0', dtype=torch.float64),\n",
       " tensor(0.7909, device='cuda:0', dtype=torch.float64),\n",
       " tensor(0.8001, device='cuda:0', dtype=torch.float64)]"
      ]
     },
     "execution_count": 24,
     "metadata": {},
     "output_type": "execute_result"
    }
   ],
   "source": [
    "train_model(champion_classifer, trainloader, optimizer_SGD, 15)"
   ]
  },
  {
   "cell_type": "markdown",
   "id": "6e488a5a",
   "metadata": {},
   "source": [
    "### Evaluation"
   ]
  },
  {
   "cell_type": "code",
   "execution_count": 26,
   "id": "a7da7a27",
   "metadata": {},
   "outputs": [
    {
     "name": "stdout",
     "output_type": "stream",
     "text": [
      "Evaluation Loss: 0.4094 Acc: 0.9015\n",
      "Training complete in 0m 1s\n"
     ]
    },
    {
     "data": {
      "text/plain": [
       "tensor(0.9015, device='cuda:0', dtype=torch.float64)"
      ]
     },
     "execution_count": 26,
     "metadata": {},
     "output_type": "execute_result"
    }
   ],
   "source": [
    "eval_model(champion_classifer, testloader)"
   ]
  },
  {
   "cell_type": "code",
   "execution_count": 27,
   "id": "8c1e9d9a",
   "metadata": {},
   "outputs": [
    {
     "name": "stdout",
     "output_type": "stream",
     "text": [
      "Prediction complete in 0m 1s\n"
     ]
    }
   ],
   "source": [
    "# Make prediction \n",
    "lab_test, champ_test = model_pred(champion_classifer, testloader)"
   ]
  },
  {
   "cell_type": "code",
   "execution_count": 35,
   "id": "bd805b13",
   "metadata": {},
   "outputs": [],
   "source": [
    "# Get ground true\n",
    "img_labels = pd.read_csv('./data/annotation_final_file.csv', header = 0)\n",
    "img_labels = img_labels.iloc[round(0.9 * img_labels.shape[0]):]\n",
    "ground_true = img_labels['champion_name']"
   ]
  },
  {
   "cell_type": "code",
   "execution_count": 36,
   "id": "b2b3d5a5",
   "metadata": {},
   "outputs": [
    {
     "data": {
      "text/plain": [
       "array([[311,   0,   1, ...,   3,   1,   1],\n",
       "       [  1,   0,   0, ...,   0,   0,   0],\n",
       "       [  2,   0,   0, ...,   0,   0,   0],\n",
       "       ...,\n",
       "       [  0,   0,   0, ...,   0,   0,   0],\n",
       "       [  0,   0,   0, ...,   0,   0,   0],\n",
       "       [  0,   0,   0, ...,   0,   0,   0]], dtype=int64)"
      ]
     },
     "execution_count": 36,
     "metadata": {},
     "output_type": "execute_result"
    }
   ],
   "source": [
    "# Confusion matrix test\n",
    "confusion_matrix(ground_true, champ_test)"
   ]
  },
  {
   "cell_type": "markdown",
   "id": "dbd2ab1b",
   "metadata": {},
   "source": [
    "### Batch First"
   ]
  },
  {
   "cell_type": "code",
   "execution_count": 58,
   "id": "993fcaf1",
   "metadata": {},
   "outputs": [],
   "source": [
    "# Batch 1\n",
    "BatchSet_1 = CustomImageDataset(annotations_file = './data/batch-data-0/annotation_file-0.csv', \n",
    "                              img_dir='./data/batch-data-0', transform=None, test=2)\n",
    "BatchSetLoader_1 = torch.utils.data.DataLoader(BatchSet_1, batch_size=10, num_workers=0, shuffle=True)"
   ]
  },
  {
   "cell_type": "code",
   "execution_count": 68,
   "id": "16c31b04",
   "metadata": {},
   "outputs": [],
   "source": [
    "df = pd.read_csv(os.path.join(os.getcwd(), 'data', 'batch-data-0', 'annotation_file-0.csv'), index_col=False)\n",
    "\n",
    "df.champion_name = champ_1\n",
    "df.champion_onehot = lab_1\n",
    "\n",
    "df.to_csv(os.path.join(os.getcwd(), 'data', 'batch-data-0', 'annotation_file-0.csv'), index = False)"
   ]
  },
  {
   "cell_type": "markdown",
   "id": "37206de1",
   "metadata": {},
   "source": [
    "### Save / Load"
   ]
  },
  {
   "cell_type": "code",
   "execution_count": 33,
   "id": "cf022263",
   "metadata": {},
   "outputs": [],
   "source": [
    "torch.save(champion_classifer.state_dict(), './model/champion_classifier_bin0.pt')"
   ]
  },
  {
   "cell_type": "code",
   "execution_count": 8,
   "id": "75282486",
   "metadata": {},
   "outputs": [
    {
     "data": {
      "text/plain": [
       "<All keys matched successfully>"
      ]
     },
     "execution_count": 8,
     "metadata": {},
     "output_type": "execute_result"
    }
   ],
   "source": [
    "champion_classifer = Champion_Net(86, nn.CrossEntropyLoss()).to(device)\n",
    "champion_classifer.load_state_dict(torch.load('./model/champion_classifier_bin0.pt', \n",
    "                                              map_location=device))"
   ]
  }
 ],
 "metadata": {
  "kernelspec": {
   "display_name": "Python 3",
   "language": "python",
   "name": "python3"
  },
  "language_info": {
   "codemirror_mode": {
    "name": "ipython",
    "version": 3
   },
   "file_extension": ".py",
   "mimetype": "text/x-python",
   "name": "python",
   "nbconvert_exporter": "python",
   "pygments_lexer": "ipython3",
   "version": "3.8.8"
  }
 },
 "nbformat": 4,
 "nbformat_minor": 5
}
