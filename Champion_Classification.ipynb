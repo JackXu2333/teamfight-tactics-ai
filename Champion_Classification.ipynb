{
 "cells": [
  {
   "cell_type": "code",
   "execution_count": 407,
   "id": "25d97d98",
   "metadata": {},
   "outputs": [],
   "source": [
    "# Python Libraries\n",
    "import random\n",
    "import math\n",
    "import numbers\n",
    "import platform\n",
    "import copy\n",
    "import os\n",
    "import time\n",
    "import pickle\n",
    "import re\n",
    "import shutil\n",
    "\n",
    "# Importing essential libraries for basic image manipulations.\n",
    "import numpy as np\n",
    "import pandas as pd\n",
    "import matplotlib.pyplot as plt\n",
    "from sklearn.metrics import confusion_matrix\n",
    "from sklearn.model_selection import train_test_split\n",
    "import PIL\n",
    "\n",
    "import torch\n",
    "import torch.nn.functional as F\n",
    "from torch import nn\n",
    "from torch.utils.data import Dataset, DataLoader\n",
    "from torchvision.io import read_image\n",
    "import torchvision.transforms as transforms\n",
    "import torchvision.transforms.functional as tF\n",
    "import torchvision.models as models"
   ]
  },
  {
   "cell_type": "code",
   "execution_count": 363,
   "id": "a38525ac",
   "metadata": {},
   "outputs": [],
   "source": [
    "%matplotlib inline\n",
    "\n",
    "# Enable/Disable GPU \n",
    "device = torch.device('cuda:0' if torch.cuda.is_available() else 'cpu')"
   ]
  },
  {
   "cell_type": "code",
   "execution_count": 364,
   "id": "b850a101",
   "metadata": {},
   "outputs": [
    {
     "data": {
      "text/plain": [
       "device(type='cuda', index=0)"
      ]
     },
     "execution_count": 364,
     "metadata": {},
     "output_type": "execute_result"
    }
   ],
   "source": [
    "device"
   ]
  },
  {
   "cell_type": "markdown",
   "id": "59985ba2",
   "metadata": {},
   "source": [
    "### Create custom dataset"
   ]
  },
  {
   "cell_type": "code",
   "execution_count": 365,
   "id": "26a12b5c",
   "metadata": {},
   "outputs": [],
   "source": [
    "class CustomImageDataset(Dataset):\n",
    "    def __init__(self, img_labels, img_labels_train, img_labels_test, img_dir, transform=None, flag=False):\n",
    "        \n",
    "        if flag == 1:\n",
    "            self.img_labels = img_labels_test\n",
    "        elif flag == 0:\n",
    "            self.img_labels = img_labels_train\n",
    "        else:\n",
    "            self.img_labels = img_labels\n",
    "\n",
    "        self.img_dir = img_dir\n",
    "        self.transform = transform\n",
    "\n",
    "    def __len__(self):\n",
    "        return len(self.img_labels)\n",
    "\n",
    "    def __getitem__(self, idx):\n",
    "        img_path = os.path.join(self.img_dir, self.img_labels.iloc[idx, 0])\n",
    "        image = read_image(img_path)\n",
    "        label = self.img_labels.iloc[idx, 1]\n",
    "\n",
    "        \n",
    "        if self.transform:\n",
    "            image = self.transform(image)\n",
    "            \n",
    "        return image.float(), label\n",
    "    "
   ]
  },
  {
   "cell_type": "code",
   "execution_count": 366,
   "id": "7641434b",
   "metadata": {},
   "outputs": [],
   "source": [
    "def split_data(annotations_file):\n",
    "    img_labels = pd.read_csv(annotations_file, header = 0)\n",
    "    img_labels_train, img_labels_test, _, _ = train_test_split(\n",
    "                                                    img_labels,\n",
    "                                                    img_labels['champion_onehot'],\n",
    "                                                    test_size=0.2,\n",
    "                                                    random_state = 0,\n",
    "                                                    stratify=img_labels['champion_onehot'])\n",
    "\n",
    "    print(len(np.unique(img_labels_train['champion_onehot'])))\n",
    "    print(len(np.unique(img_labels_train['champion_name'])))\n",
    "    print(len(np.unique(img_labels_test['champion_onehot'])))\n",
    "    print(len(np.unique(img_labels_test['champion_name'])))\n",
    "\n",
    "    \n",
    "    return img_labels_train, img_labels_test\n",
    "    "
   ]
  },
  {
   "cell_type": "code",
   "execution_count": 367,
   "id": "cfd3287d",
   "metadata": {},
   "outputs": [
    {
     "name": "stdout",
     "output_type": "stream",
     "text": [
      "85\n",
      "85\n",
      "78\n",
      "78\n"
     ]
    }
   ],
   "source": [
    "annotations_file = './data/annotation_final_file.csv'\n",
    "# batch_size = 4\n",
    "batch_size = 64\n",
    "\n",
    "transform = transforms.Compose(\n",
    "    [transforms.RandomVerticalFlip(p=0.5),\n",
    "     transforms.RandomHorizontalFlip(p=0.5)])\n",
    "\n",
    "img_labels_train, img_labels_test = split_data(annotations_file=annotations_file)\n",
    "\n",
    "img_labels = pd.read_csv(annotations_file, header = 0)\n",
    "\n",
    "trainset = CustomImageDataset(\n",
    "                              img_labels = img_labels, \n",
    "                              img_labels_train = img_labels_train, \n",
    "                              img_labels_test = img_labels_test,\n",
    "                              img_dir='./data/champion-classifier', transform=None, flag=0)\n",
    "trainloader = torch.utils.data.DataLoader(trainset, batch_size=batch_size, num_workers=0, shuffle=False)\n",
    "\n",
    "testset = CustomImageDataset(\n",
    "                              img_labels = img_labels, \n",
    "                              img_labels_train = img_labels_train, \n",
    "                              img_labels_test = img_labels_test,\n",
    "                              img_dir='./data/champion-classifier', transform=None, flag=1)\n",
    "testloader = torch.utils.data.DataLoader(testset, batch_size=batch_size, num_workers=0, shuffle=False)\n",
    "\n",
    "\n",
    "# trainset = CustomImageDataset(annotations_file = './data/annotation_final_file_champ_only.csv', \n",
    "#                               img_dir='./data/champion-classifier', transform=None, flag=0)\n",
    "# trainloader = torch.utils.data.DataLoader(trainset, batch_size=batch_size, num_workers=0, shuffle=True)\n",
    "\n",
    "# testset = CustomImageDataset(annotations_file = './data/annotation_final_file_champ_only.csv', \n",
    "#                               img_dir='./data/champion-classifier', transform=None, flag=1)\n",
    "# testloader = torch.utils.data.DataLoader(testset, batch_size=batch_size, num_workers=0, shuffle=True)\n",
    "\n"
   ]
  },
  {
   "cell_type": "markdown",
   "id": "26ea845c",
   "metadata": {},
   "source": [
    "### resNet18"
   ]
  },
  {
   "cell_type": "code",
   "execution_count": 368,
   "id": "fbba6d2b",
   "metadata": {},
   "outputs": [],
   "source": [
    "class Champion_Net(nn.Module):\n",
    "    def __init__(self, num_classes, criterion):\n",
    "        super(Champion_Net, self).__init__()\n",
    "\n",
    "        # Implement me\n",
    "        model_ft = models.resnet18()\n",
    "        model_ft.fc = nn.Linear(512, num_classes)\n",
    "        \n",
    "        self.model = model_ft\n",
    "        self.criterion = criterion\n",
    "        self.sigmoid = nn.Sigmoid()\n",
    "        \n",
    "    def forward(self, inp):\n",
    "        \n",
    "        pred = self.model(inp)\n",
    "        return pred"
   ]
  },
  {
   "cell_type": "code",
   "execution_count": 369,
   "id": "29d41640",
   "metadata": {},
   "outputs": [],
   "source": [
    "def train_model(model, dataloaders, optimizer, num_epochs=25):\n",
    "    \n",
    "    since = time.time()\n",
    "    acc_list = []\n",
    "    model.train() # In training mode\n",
    "\n",
    "    for epoch in range(num_epochs):\n",
    "        print('Epoch {}/{}'.format(epoch, num_epochs - 1))\n",
    "        print('-' * 10)\n",
    "\n",
    "        running_loss = 0.0\n",
    "        running_corrects = 0\n",
    "\n",
    "        # Iterate over data.\n",
    "        for inputs, labels in dataloaders:\n",
    "            inputs = inputs.to(device)\n",
    "            labels = labels.to(device)\n",
    "\n",
    "            # zero the parameter gradients\n",
    "            optimizer.zero_grad()\n",
    "\n",
    "            # forward\n",
    "            outputs = model(inputs)\n",
    "            loss = model.criterion(outputs, labels)\n",
    "\n",
    "            _, preds = torch.max(outputs, 1)\n",
    "\n",
    "            # backward + optimize only if in training phase\n",
    "            loss.backward()\n",
    "            optimizer.step()\n",
    "\n",
    "            # statistics\n",
    "            running_loss += loss.item() * inputs.size(0)\n",
    "            running_corrects += torch.sum(preds == labels.data)\n",
    "\n",
    "        # Epoch information\n",
    "        epoch_loss = running_loss / len(dataloaders.dataset)\n",
    "        epoch_acc = running_corrects.double() / len(dataloaders.dataset)\n",
    "        acc_list.append(epoch_acc)\n",
    "\n",
    "        print('Training Loss: {:.4f} Acc: {:.4f}'.format(epoch_loss, epoch_acc))\n",
    "\n",
    "\n",
    "    time_elapsed = time.time() - since\n",
    "    print('Training complete in {:.0f}m {:.0f}s'.format(time_elapsed // 60, time_elapsed % 60))\n",
    "    \n",
    "    return acc_list"
   ]
  },
  {
   "cell_type": "code",
   "execution_count": 370,
   "id": "a55ef055",
   "metadata": {},
   "outputs": [],
   "source": [
    "def eval_model(model, dataloaders):\n",
    "    \n",
    "    since = time.time()\n",
    "    model.eval() # In training mode\n",
    "\n",
    "    running_loss = 0.0\n",
    "    running_corrects = 0\n",
    "\n",
    "    # Iterate over data.\n",
    "    for inputs, labels in dataloaders:\n",
    "        inputs = inputs.to(device)\n",
    "        labels = labels.to(device)\n",
    "        \n",
    "        with torch.no_grad():\n",
    "\n",
    "            # forward\n",
    "            outputs = model(inputs)\n",
    "            loss = model.criterion(outputs, labels)\n",
    "\n",
    "            _, preds = torch.max(outputs, 1)\n",
    "\n",
    "            # statistics\n",
    "            running_loss += loss.item() * inputs.size(0)\n",
    "            running_corrects += torch.sum(preds == labels.data)\n",
    "\n",
    "    overall_loss = running_loss / len(dataloaders.dataset)\n",
    "    overall_acc = running_corrects.double() / len(dataloaders.dataset)\n",
    "\n",
    "    print('Evaluation Loss: {:.4f} Acc: {:.4f}'.format(overall_loss, overall_acc))\n",
    "\n",
    "\n",
    "    time_elapsed = time.time() - since\n",
    "    print('Training complete in {:.0f}m {:.0f}s'.format(time_elapsed // 60, time_elapsed % 60))\n",
    "    \n",
    "    return overall_acc"
   ]
  },
  {
   "cell_type": "code",
   "execution_count": 371,
   "id": "05ee4afd",
   "metadata": {},
   "outputs": [],
   "source": [
    "def vec2Champ(vec):\n",
    "\n",
    "    with open(\"data/master_champ_list.pkl\", \"rb\") as input_file:\n",
    "        master_champ_list = pickle.load(input_file)\n",
    "        \n",
    "    vec2Champ = {i : champ for i, champ in enumerate(master_champ_list)}\n",
    "    champ = [vec2Champ.get(i) for i in vec]\n",
    "    \n",
    "    return champ"
   ]
  },
  {
   "cell_type": "code",
   "execution_count": 372,
   "id": "475bfa83",
   "metadata": {},
   "outputs": [],
   "source": [
    "def model_pred(model, dataloaders):\n",
    "    \n",
    "    since = time.time()\n",
    "    model.eval() # In prediction mode\n",
    "\n",
    "    labels = []\n",
    "    gt = []\n",
    "\n",
    "    # Iterate over data.\n",
    "    for inputs, groundTruth in dataloaders:\n",
    "        inputs = inputs.to(device)\n",
    "        \n",
    "        with torch.no_grad():\n",
    "\n",
    "            # forward\n",
    "            outputs = model(inputs)\n",
    "            _, preds = torch.max(outputs, 1)\n",
    "            labels += preds.tolist()\n",
    "            gt += groundTruth.tolist()\n",
    "\n",
    "\n",
    "    time_elapsed = time.time() - since\n",
    "    print('Prediction complete in {:.0f}m {:.0f}s'.format(time_elapsed // 60, time_elapsed % 60))\n",
    "    \n",
    "    return labels, vec2Champ(labels), gt"
   ]
  },
  {
   "cell_type": "markdown",
   "id": "df94c8bf",
   "metadata": {},
   "source": [
    "### Training"
   ]
  },
  {
   "cell_type": "code",
   "execution_count": 373,
   "id": "7e198f81",
   "metadata": {},
   "outputs": [],
   "source": [
    "champion_classifer = Champion_Net(86, nn.CrossEntropyLoss()).cuda()"
   ]
  },
  {
   "cell_type": "code",
   "execution_count": 374,
   "id": "fc28939d",
   "metadata": {},
   "outputs": [],
   "source": [
    "optimizer_SGD = torch.optim.SGD(champion_classifer.parameters(), lr=0.01, momentum=0.9)"
   ]
  },
  {
   "cell_type": "code",
   "execution_count": 375,
   "id": "ca7830bf",
   "metadata": {},
   "outputs": [
    {
     "name": "stdout",
     "output_type": "stream",
     "text": [
      "Epoch 0/4\n",
      "----------\n",
      "Training Loss: 1.7941 Acc: 0.6850\n",
      "Epoch 1/4\n",
      "----------\n",
      "Training Loss: 1.1851 Acc: 0.7458\n",
      "Epoch 2/4\n",
      "----------\n",
      "Training Loss: 0.8730 Acc: 0.8042\n",
      "Epoch 3/4\n",
      "----------\n",
      "Training Loss: 0.6000 Acc: 0.8698\n",
      "Epoch 4/4\n",
      "----------\n",
      "Training Loss: 0.3896 Acc: 0.9275\n",
      "Training complete in 0m 10s\n"
     ]
    },
    {
     "data": {
      "text/plain": [
       "[tensor(0.6850, device='cuda:0', dtype=torch.float64),\n",
       " tensor(0.7458, device='cuda:0', dtype=torch.float64),\n",
       " tensor(0.8042, device='cuda:0', dtype=torch.float64),\n",
       " tensor(0.8698, device='cuda:0', dtype=torch.float64),\n",
       " tensor(0.9275, device='cuda:0', dtype=torch.float64)]"
      ]
     },
     "execution_count": 375,
     "metadata": {},
     "output_type": "execute_result"
    }
   ],
   "source": [
    "train_model(champion_classifer, trainloader, optimizer_SGD, 5)"
   ]
  },
  {
   "cell_type": "markdown",
   "id": "8d68bada",
   "metadata": {},
   "source": [
    "### Evaluation"
   ]
  },
  {
   "cell_type": "code",
   "execution_count": 376,
   "id": "e5d9475e",
   "metadata": {},
   "outputs": [
    {
     "name": "stdout",
     "output_type": "stream",
     "text": [
      "Evaluation Loss: 0.9573 Acc: 0.7894\n",
      "Training complete in 0m 0s\n"
     ]
    },
    {
     "data": {
      "text/plain": [
       "tensor(0.7894, device='cuda:0', dtype=torch.float64)"
      ]
     },
     "execution_count": 376,
     "metadata": {},
     "output_type": "execute_result"
    }
   ],
   "source": [
    "eval_model(champion_classifer, testloader)"
   ]
  },
  {
   "cell_type": "code",
   "execution_count": 377,
   "id": "8c1e9d9a",
   "metadata": {},
   "outputs": [
    {
     "name": "stdout",
     "output_type": "stream",
     "text": [
      "Prediction complete in 0m 0s\n"
     ]
    }
   ],
   "source": [
    "# Make prediction \n",
    "lab_test, champ_test, gt = model_pred(champion_classifer, testloader)"
   ]
  },
  {
   "cell_type": "code",
   "execution_count": null,
   "id": "aa948941",
   "metadata": {},
   "outputs": [],
   "source": []
  },
  {
   "cell_type": "code",
   "execution_count": 378,
   "id": "41b6ad05",
   "metadata": {},
   "outputs": [
    {
     "name": "stderr",
     "output_type": "stream",
     "text": [
      "<ipython-input-378-2c0329542983>:14: RuntimeWarning: invalid value encountered in true_divide\n",
      "  np.divide(np.diag(cf_m), np.sum(cf_m, axis = 1))\n"
     ]
    },
    {
     "data": {
      "text/plain": [
       "0.36574074074074076"
      ]
     },
     "execution_count": 378,
     "metadata": {},
     "output_type": "execute_result"
    }
   ],
   "source": [
    "with open(\"data/master_champ_list.pkl\", \"rb\") as input_file:\n",
    "    master_champ_list = pickle.load(input_file)\n",
    "\n",
    "gt_original = list(img_labels_test.champion_onehot)\n",
    "champ_original = list(img_labels_test.champion_name)\n",
    "\n",
    "\n",
    "# Calculate confision matrix + accuracy per class\n",
    "\n",
    "# C_ij, in group i, predicted group j\n",
    "cf_m = confusion_matrix(y_true = champ_original, y_pred = champ_test, labels=master_champ_list)\n",
    "\n",
    "\n",
    "np.divide(np.diag(cf_m), np.sum(cf_m, axis = 1))\n",
    "\n",
    "\n",
    "\n",
    "np.sum(np.diag(cf_m[:-1, :-1]))/np.sum(cf_m[:-1, :-1])"
   ]
  },
  {
   "cell_type": "code",
   "execution_count": null,
   "id": "bf5babc9",
   "metadata": {},
   "outputs": [],
   "source": []
  },
  {
   "cell_type": "code",
   "execution_count": 379,
   "id": "8c48bfe8",
   "metadata": {},
   "outputs": [
    {
     "data": {
      "text/plain": [
       "0.9785330948121646"
      ]
     },
     "execution_count": 379,
     "metadata": {},
     "output_type": "execute_result"
    }
   ],
   "source": [
    "# Confusion matrix test\n",
    "cf_m[-1, -1]/np.sum(cf_m[-1])"
   ]
  },
  {
   "cell_type": "markdown",
   "id": "dbd2ab1b",
   "metadata": {},
   "source": [
    "### Batch First"
   ]
  },
  {
   "cell_type": "code",
   "execution_count": null,
   "id": "993fcaf1",
   "metadata": {},
   "outputs": [],
   "source": [
    "# Batch 1\n",
    "BatchSet_1 = CustomImageDataset(annotations_file = './data/batch-data-0/annotation_file-0.csv', \n",
    "                              img_dir='./data/batch-data-0', transform=None, test=2)\n",
    "BatchSetLoader_1 = torch.utils.data.DataLoader(BatchSet_1, batch_size=10, num_workers=0, shuffle=True)"
   ]
  },
  {
   "cell_type": "code",
   "execution_count": null,
   "id": "16c31b04",
   "metadata": {},
   "outputs": [],
   "source": [
    "df = pd.read_csv(os.path.join(os.getcwd(), 'data', 'batch-data-0', 'annotation_file-0.csv'), index_col=False)\n",
    "\n",
    "df.champion_name = champ_1\n",
    "df.champion_onehot = lab_1\n",
    "\n",
    "df.to_csv(os.path.join(os.getcwd(), 'data', 'batch-data-0', 'annotation_file-0.csv'), index = False)"
   ]
  },
  {
   "cell_type": "markdown",
   "id": "37206de1",
   "metadata": {},
   "source": [
    "### Save / Load"
   ]
  },
  {
   "cell_type": "code",
   "execution_count": null,
   "id": "cf022263",
   "metadata": {},
   "outputs": [],
   "source": [
    "torch.save(champion_classifer.state_dict(), './model/champion_classifier_bin0.pt')"
   ]
  },
  {
   "cell_type": "code",
   "execution_count": null,
   "id": "75282486",
   "metadata": {},
   "outputs": [],
   "source": [
    "champion_classifer = Champion_Net(86, nn.CrossEntropyLoss()).to(device)\n",
    "champion_classifer.load_state_dict(torch.load('./model/champion_classifier_bin0.pt', \n",
    "                                              map_location=device))"
   ]
  },
  {
   "cell_type": "markdown",
   "id": "3dff2451",
   "metadata": {},
   "source": [
    "### Predict currently trained model on master data sheet"
   ]
  },
  {
   "cell_type": "code",
   "execution_count": null,
   "id": "6852b775",
   "metadata": {},
   "outputs": [],
   "source": [
    "class ImageDataset(Dataset):\n",
    "    def __init__(self, img_labels, img_dir):\n",
    "        \n",
    "\n",
    "        self.img_labels = img_labels\n",
    "        self.img_dir = img_dir\n",
    "\n",
    "    def __len__(self):\n",
    "        return len(self.img_labels)\n",
    "\n",
    "    def __getitem__(self, idx):\n",
    "        img_path = os.path.join(self.img_dir, self.img_labels.iloc[idx, 0])\n",
    "        image = read_image(img_path)\n",
    "        label = self.img_labels.iloc[idx, 1]\n",
    "\n",
    "        return image.float()"
   ]
  },
  {
   "cell_type": "code",
   "execution_count": null,
   "id": "df067a8b",
   "metadata": {},
   "outputs": [],
   "source": [
    "master_data_path = os.path.join(os.getcwd(), 'data', 'Champions_Label.xlsx')\n",
    "master_data = pd.read_excel(master_data_path)"
   ]
  },
  {
   "cell_type": "code",
   "execution_count": 404,
   "id": "efceb62e",
   "metadata": {},
   "outputs": [
    {
     "data": {
      "text/html": [
       "<div>\n",
       "<style scoped>\n",
       "    .dataframe tbody tr th:only-of-type {\n",
       "        vertical-align: middle;\n",
       "    }\n",
       "\n",
       "    .dataframe tbody tr th {\n",
       "        vertical-align: top;\n",
       "    }\n",
       "\n",
       "    .dataframe thead th {\n",
       "        text-align: right;\n",
       "    }\n",
       "</style>\n",
       "<table border=\"1\" class=\"dataframe\">\n",
       "  <thead>\n",
       "    <tr style=\"text-align: right;\">\n",
       "      <th></th>\n",
       "      <th>Unnamed: 0</th>\n",
       "      <th>youtuber</th>\n",
       "      <th>video_name</th>\n",
       "      <th>frame_name</th>\n",
       "      <th>cropped_name</th>\n",
       "      <th>champion_name</th>\n",
       "      <th>predicted</th>\n",
       "      <th>image_name</th>\n",
       "      <th>image_file_path</th>\n",
       "    </tr>\n",
       "  </thead>\n",
       "  <tbody>\n",
       "    <tr>\n",
       "      <th>0</th>\n",
       "      <td>0</td>\n",
       "      <td>Mortdog</td>\n",
       "      <td>100 HP Challenger - Nerfed but still so good  ...</td>\n",
       "      <td>frame11880.jpg</td>\n",
       "      <td>cropped_S_0.jpg</td>\n",
       "      <td>NaN</td>\n",
       "      <td>NaN</td>\n",
       "      <td>image_0.jpg</td>\n",
       "      <td>/Users/mgw/Desktop/CS686_Project/teamfight-tac...</td>\n",
       "    </tr>\n",
       "    <tr>\n",
       "      <th>1</th>\n",
       "      <td>1</td>\n",
       "      <td>Mortdog</td>\n",
       "      <td>100 HP Challenger - Nerfed but still so good  ...</td>\n",
       "      <td>frame11880.jpg</td>\n",
       "      <td>cropped_S_1.jpg</td>\n",
       "      <td>Warwick</td>\n",
       "      <td>NaN</td>\n",
       "      <td>NaN</td>\n",
       "      <td>NaN</td>\n",
       "    </tr>\n",
       "    <tr>\n",
       "      <th>2</th>\n",
       "      <td>2</td>\n",
       "      <td>Mortdog</td>\n",
       "      <td>100 HP Challenger - Nerfed but still so good  ...</td>\n",
       "      <td>frame11880.jpg</td>\n",
       "      <td>cropped_S_2.jpg</td>\n",
       "      <td>Taric</td>\n",
       "      <td>NaN</td>\n",
       "      <td>NaN</td>\n",
       "      <td>NaN</td>\n",
       "    </tr>\n",
       "    <tr>\n",
       "      <th>3</th>\n",
       "      <td>3</td>\n",
       "      <td>Mortdog</td>\n",
       "      <td>100 HP Challenger - Nerfed but still so good  ...</td>\n",
       "      <td>frame11880.jpg</td>\n",
       "      <td>cropped_S_3.jpg</td>\n",
       "      <td>Camille</td>\n",
       "      <td>NaN</td>\n",
       "      <td>NaN</td>\n",
       "      <td>NaN</td>\n",
       "    </tr>\n",
       "    <tr>\n",
       "      <th>4</th>\n",
       "      <td>4</td>\n",
       "      <td>Mortdog</td>\n",
       "      <td>100 HP Challenger - Nerfed but still so good  ...</td>\n",
       "      <td>frame11880.jpg</td>\n",
       "      <td>cropped_S_4.jpg</td>\n",
       "      <td>Background</td>\n",
       "      <td>NaN</td>\n",
       "      <td>NaN</td>\n",
       "      <td>NaN</td>\n",
       "    </tr>\n",
       "    <tr>\n",
       "      <th>5</th>\n",
       "      <td>5</td>\n",
       "      <td>Mortdog</td>\n",
       "      <td>100 HP Challenger - Nerfed but still so good  ...</td>\n",
       "      <td>frame11880.jpg</td>\n",
       "      <td>cropped_S_5.jpg</td>\n",
       "      <td>Background</td>\n",
       "      <td>NaN</td>\n",
       "      <td>NaN</td>\n",
       "      <td>NaN</td>\n",
       "    </tr>\n",
       "    <tr>\n",
       "      <th>6</th>\n",
       "      <td>6</td>\n",
       "      <td>Mortdog</td>\n",
       "      <td>100 HP Challenger - Nerfed but still so good  ...</td>\n",
       "      <td>frame11880.jpg</td>\n",
       "      <td>cropped_S_6.jpg</td>\n",
       "      <td>Background</td>\n",
       "      <td>NaN</td>\n",
       "      <td>NaN</td>\n",
       "      <td>NaN</td>\n",
       "    </tr>\n",
       "    <tr>\n",
       "      <th>7</th>\n",
       "      <td>7</td>\n",
       "      <td>Mortdog</td>\n",
       "      <td>100 HP Challenger - Nerfed but still so good  ...</td>\n",
       "      <td>frame11880.jpg</td>\n",
       "      <td>cropped_S_7.jpg</td>\n",
       "      <td>NaN</td>\n",
       "      <td>NaN</td>\n",
       "      <td>image_1.jpg</td>\n",
       "      <td>/Users/mgw/Desktop/CS686_Project/teamfight-tac...</td>\n",
       "    </tr>\n",
       "    <tr>\n",
       "      <th>8</th>\n",
       "      <td>8</td>\n",
       "      <td>Mortdog</td>\n",
       "      <td>100 HP Challenger - Nerfed but still so good  ...</td>\n",
       "      <td>frame11880.jpg</td>\n",
       "      <td>cropped_S_8.jpg</td>\n",
       "      <td>NaN</td>\n",
       "      <td>NaN</td>\n",
       "      <td>image_2.jpg</td>\n",
       "      <td>/Users/mgw/Desktop/CS686_Project/teamfight-tac...</td>\n",
       "    </tr>\n",
       "    <tr>\n",
       "      <th>9</th>\n",
       "      <td>9</td>\n",
       "      <td>Mortdog</td>\n",
       "      <td>100 HP Challenger - Nerfed but still so good  ...</td>\n",
       "      <td>frame11880.jpg</td>\n",
       "      <td>cropped_S_9.jpg</td>\n",
       "      <td>NaN</td>\n",
       "      <td>NaN</td>\n",
       "      <td>image_3.jpg</td>\n",
       "      <td>/Users/mgw/Desktop/CS686_Project/teamfight-tac...</td>\n",
       "    </tr>\n",
       "  </tbody>\n",
       "</table>\n",
       "</div>"
      ],
      "text/plain": [
       "   Unnamed: 0 youtuber                                         video_name  \\\n",
       "0           0  Mortdog  100 HP Challenger - Nerfed but still so good  ...   \n",
       "1           1  Mortdog  100 HP Challenger - Nerfed but still so good  ...   \n",
       "2           2  Mortdog  100 HP Challenger - Nerfed but still so good  ...   \n",
       "3           3  Mortdog  100 HP Challenger - Nerfed but still so good  ...   \n",
       "4           4  Mortdog  100 HP Challenger - Nerfed but still so good  ...   \n",
       "5           5  Mortdog  100 HP Challenger - Nerfed but still so good  ...   \n",
       "6           6  Mortdog  100 HP Challenger - Nerfed but still so good  ...   \n",
       "7           7  Mortdog  100 HP Challenger - Nerfed but still so good  ...   \n",
       "8           8  Mortdog  100 HP Challenger - Nerfed but still so good  ...   \n",
       "9           9  Mortdog  100 HP Challenger - Nerfed but still so good  ...   \n",
       "\n",
       "       frame_name     cropped_name champion_name  predicted   image_name  \\\n",
       "0  frame11880.jpg  cropped_S_0.jpg           NaN        NaN  image_0.jpg   \n",
       "1  frame11880.jpg  cropped_S_1.jpg       Warwick        NaN          NaN   \n",
       "2  frame11880.jpg  cropped_S_2.jpg         Taric        NaN          NaN   \n",
       "3  frame11880.jpg  cropped_S_3.jpg       Camille        NaN          NaN   \n",
       "4  frame11880.jpg  cropped_S_4.jpg    Background        NaN          NaN   \n",
       "5  frame11880.jpg  cropped_S_5.jpg    Background        NaN          NaN   \n",
       "6  frame11880.jpg  cropped_S_6.jpg    Background        NaN          NaN   \n",
       "7  frame11880.jpg  cropped_S_7.jpg           NaN        NaN  image_1.jpg   \n",
       "8  frame11880.jpg  cropped_S_8.jpg           NaN        NaN  image_2.jpg   \n",
       "9  frame11880.jpg  cropped_S_9.jpg           NaN        NaN  image_3.jpg   \n",
       "\n",
       "                                     image_file_path  \n",
       "0  /Users/mgw/Desktop/CS686_Project/teamfight-tac...  \n",
       "1                                                NaN  \n",
       "2                                                NaN  \n",
       "3                                                NaN  \n",
       "4                                                NaN  \n",
       "5                                                NaN  \n",
       "6                                                NaN  \n",
       "7  /Users/mgw/Desktop/CS686_Project/teamfight-tac...  \n",
       "8  /Users/mgw/Desktop/CS686_Project/teamfight-tac...  \n",
       "9  /Users/mgw/Desktop/CS686_Project/teamfight-tac...  "
      ]
     },
     "execution_count": 404,
     "metadata": {},
     "output_type": "execute_result"
    }
   ],
   "source": [
    "master_data_sample = master_data[0:10]\n",
    "\n",
    "master_data_sample"
   ]
  },
  {
   "cell_type": "code",
   "execution_count": 412,
   "id": "6f013e7a",
   "metadata": {},
   "outputs": [
    {
     "ename": "FileNotFoundError",
     "evalue": "[Errno 2] No such file or directory: 'F:\\\\PycharmProjects\\\\TFT\\\\contents\\\\Mortdog\\\\100 HP Challenger - Nerfed but still so good  TFT Gizmos _ Gadgets  Teamfight Tactics.mp4\\\\frame11880\\\\cropped_S_0.png'",
     "output_type": "error",
     "traceback": [
      "\u001b[1;31m---------------------------------------------------------------------------\u001b[0m",
      "\u001b[1;31mFileNotFoundError\u001b[0m                         Traceback (most recent call last)",
      "\u001b[1;32m<ipython-input-412-4295014c01b7>\u001b[0m in \u001b[0;36m<module>\u001b[1;34m\u001b[0m\n\u001b[0;32m     19\u001b[0m     \u001b[0mfinal_img_dir\u001b[0m \u001b[1;33m=\u001b[0m \u001b[0mos\u001b[0m\u001b[1;33m.\u001b[0m\u001b[0mpath\u001b[0m\u001b[1;33m.\u001b[0m\u001b[0mjoin\u001b[0m\u001b[1;33m(\u001b[0m\u001b[0mmaster_img_input_path\u001b[0m\u001b[1;33m,\u001b[0m \u001b[1;34mf'image-{i}.jpg'\u001b[0m\u001b[1;33m)\u001b[0m\u001b[1;33m\u001b[0m\u001b[1;33m\u001b[0m\u001b[0m\n\u001b[0;32m     20\u001b[0m \u001b[1;33m\u001b[0m\u001b[0m\n\u001b[1;32m---> 21\u001b[1;33m     \u001b[0mshutil\u001b[0m\u001b[1;33m.\u001b[0m\u001b[0mcopyfile\u001b[0m\u001b[1;33m(\u001b[0m\u001b[0mto_img_dir\u001b[0m\u001b[1;33m,\u001b[0m \u001b[0mfinal_img_dir\u001b[0m\u001b[1;33m)\u001b[0m\u001b[1;33m\u001b[0m\u001b[1;33m\u001b[0m\u001b[0m\n\u001b[0m\u001b[0;32m     22\u001b[0m \u001b[1;33m\u001b[0m\u001b[0m\n",
      "\u001b[1;32mC:\\ProgramData\\Anaconda3\\lib\\shutil.py\u001b[0m in \u001b[0;36mcopyfile\u001b[1;34m(src, dst, follow_symlinks)\u001b[0m\n\u001b[0;32m    262\u001b[0m         \u001b[0mos\u001b[0m\u001b[1;33m.\u001b[0m\u001b[0msymlink\u001b[0m\u001b[1;33m(\u001b[0m\u001b[0mos\u001b[0m\u001b[1;33m.\u001b[0m\u001b[0mreadlink\u001b[0m\u001b[1;33m(\u001b[0m\u001b[0msrc\u001b[0m\u001b[1;33m)\u001b[0m\u001b[1;33m,\u001b[0m \u001b[0mdst\u001b[0m\u001b[1;33m)\u001b[0m\u001b[1;33m\u001b[0m\u001b[1;33m\u001b[0m\u001b[0m\n\u001b[0;32m    263\u001b[0m     \u001b[1;32melse\u001b[0m\u001b[1;33m:\u001b[0m\u001b[1;33m\u001b[0m\u001b[1;33m\u001b[0m\u001b[0m\n\u001b[1;32m--> 264\u001b[1;33m         \u001b[1;32mwith\u001b[0m \u001b[0mopen\u001b[0m\u001b[1;33m(\u001b[0m\u001b[0msrc\u001b[0m\u001b[1;33m,\u001b[0m \u001b[1;34m'rb'\u001b[0m\u001b[1;33m)\u001b[0m \u001b[1;32mas\u001b[0m \u001b[0mfsrc\u001b[0m\u001b[1;33m,\u001b[0m \u001b[0mopen\u001b[0m\u001b[1;33m(\u001b[0m\u001b[0mdst\u001b[0m\u001b[1;33m,\u001b[0m \u001b[1;34m'wb'\u001b[0m\u001b[1;33m)\u001b[0m \u001b[1;32mas\u001b[0m \u001b[0mfdst\u001b[0m\u001b[1;33m:\u001b[0m\u001b[1;33m\u001b[0m\u001b[1;33m\u001b[0m\u001b[0m\n\u001b[0m\u001b[0;32m    265\u001b[0m             \u001b[1;31m# macOS\u001b[0m\u001b[1;33m\u001b[0m\u001b[1;33m\u001b[0m\u001b[1;33m\u001b[0m\u001b[0m\n\u001b[0;32m    266\u001b[0m             \u001b[1;32mif\u001b[0m \u001b[0m_HAS_FCOPYFILE\u001b[0m\u001b[1;33m:\u001b[0m\u001b[1;33m\u001b[0m\u001b[1;33m\u001b[0m\u001b[0m\n",
      "\u001b[1;31mFileNotFoundError\u001b[0m: [Errno 2] No such file or directory: 'F:\\\\PycharmProjects\\\\TFT\\\\contents\\\\Mortdog\\\\100 HP Challenger - Nerfed but still so good  TFT Gizmos _ Gadgets  Teamfight Tactics.mp4\\\\frame11880\\\\cropped_S_0.png'"
     ]
    }
   ],
   "source": [
    "master_img_input_path = os.path.join(os.getcwd(), 'data', 'all_img')\n",
    "\n",
    "if not os.path.exists(master_img_input_path):\n",
    "    os.makedirs(master_img_input_path)\n",
    "\n",
    "\n",
    "# Create master_annotation file\n",
    "\n",
    "# for i in range(len(master_data_sample)):\n",
    "#     youtuber = master_data_sample.iloc[i,:].youtuber\n",
    "#     video_name = master_data_sample.iloc[i,:].video_name\n",
    "#     frame_name = master_data_sample.iloc[i,:].frame_name\n",
    "#     frame_name = re.sub(r'.jpg$', '', frame_name)\n",
    "    \n",
    "#     cropped_name = master_data_sample.iloc[i,:].cropped_name\n",
    "#     cropped_name = re.sub(r'.jpg$', '.png', cropped_name)\n",
    "    \n",
    "#     to_img_dir = os.path.join(os.getcwd(), 'contents', youtuber, video_name, frame_name, cropped_name)\n",
    "#     final_img_dir = os.path.join(master_img_input_path, f'image-{i}.jpg')\n",
    "    \n",
    "#     shutil.copyfile(to_img_dir, final_img_dir)\n",
    "    \n",
    "    \n"
   ]
  },
  {
   "cell_type": "code",
   "execution_count": null,
   "id": "a878afaf",
   "metadata": {},
   "outputs": [],
   "source": []
  },
  {
   "cell_type": "code",
   "execution_count": 409,
   "id": "afa6e5af",
   "metadata": {},
   "outputs": [
    {
     "data": {
      "text/html": [
       "<div>\n",
       "<style scoped>\n",
       "    .dataframe tbody tr th:only-of-type {\n",
       "        vertical-align: middle;\n",
       "    }\n",
       "\n",
       "    .dataframe tbody tr th {\n",
       "        vertical-align: top;\n",
       "    }\n",
       "\n",
       "    .dataframe thead th {\n",
       "        text-align: right;\n",
       "    }\n",
       "</style>\n",
       "<table border=\"1\" class=\"dataframe\">\n",
       "  <thead>\n",
       "    <tr style=\"text-align: right;\">\n",
       "      <th></th>\n",
       "      <th>Unnamed: 0</th>\n",
       "      <th>youtuber</th>\n",
       "      <th>video_name</th>\n",
       "      <th>frame_name</th>\n",
       "      <th>cropped_name</th>\n",
       "      <th>champion_name</th>\n",
       "      <th>predicted</th>\n",
       "      <th>image_name</th>\n",
       "      <th>image_file_path</th>\n",
       "    </tr>\n",
       "  </thead>\n",
       "  <tbody>\n",
       "    <tr>\n",
       "      <th>0</th>\n",
       "      <td>0</td>\n",
       "      <td>Mortdog</td>\n",
       "      <td>100 HP Challenger - Nerfed but still so good  ...</td>\n",
       "      <td>frame11880.jpg</td>\n",
       "      <td>cropped_S_0.jpg</td>\n",
       "      <td>NaN</td>\n",
       "      <td>NaN</td>\n",
       "      <td>image_0.jpg</td>\n",
       "      <td>/Users/mgw/Desktop/CS686_Project/teamfight-tac...</td>\n",
       "    </tr>\n",
       "    <tr>\n",
       "      <th>1</th>\n",
       "      <td>1</td>\n",
       "      <td>Mortdog</td>\n",
       "      <td>100 HP Challenger - Nerfed but still so good  ...</td>\n",
       "      <td>frame11880.jpg</td>\n",
       "      <td>cropped_S_1.jpg</td>\n",
       "      <td>Warwick</td>\n",
       "      <td>NaN</td>\n",
       "      <td>NaN</td>\n",
       "      <td>NaN</td>\n",
       "    </tr>\n",
       "    <tr>\n",
       "      <th>2</th>\n",
       "      <td>2</td>\n",
       "      <td>Mortdog</td>\n",
       "      <td>100 HP Challenger - Nerfed but still so good  ...</td>\n",
       "      <td>frame11880.jpg</td>\n",
       "      <td>cropped_S_2.jpg</td>\n",
       "      <td>Taric</td>\n",
       "      <td>NaN</td>\n",
       "      <td>NaN</td>\n",
       "      <td>NaN</td>\n",
       "    </tr>\n",
       "    <tr>\n",
       "      <th>3</th>\n",
       "      <td>3</td>\n",
       "      <td>Mortdog</td>\n",
       "      <td>100 HP Challenger - Nerfed but still so good  ...</td>\n",
       "      <td>frame11880.jpg</td>\n",
       "      <td>cropped_S_3.jpg</td>\n",
       "      <td>Camille</td>\n",
       "      <td>NaN</td>\n",
       "      <td>NaN</td>\n",
       "      <td>NaN</td>\n",
       "    </tr>\n",
       "    <tr>\n",
       "      <th>4</th>\n",
       "      <td>4</td>\n",
       "      <td>Mortdog</td>\n",
       "      <td>100 HP Challenger - Nerfed but still so good  ...</td>\n",
       "      <td>frame11880.jpg</td>\n",
       "      <td>cropped_S_4.jpg</td>\n",
       "      <td>Background</td>\n",
       "      <td>NaN</td>\n",
       "      <td>NaN</td>\n",
       "      <td>NaN</td>\n",
       "    </tr>\n",
       "    <tr>\n",
       "      <th>5</th>\n",
       "      <td>5</td>\n",
       "      <td>Mortdog</td>\n",
       "      <td>100 HP Challenger - Nerfed but still so good  ...</td>\n",
       "      <td>frame11880.jpg</td>\n",
       "      <td>cropped_S_5.jpg</td>\n",
       "      <td>Background</td>\n",
       "      <td>NaN</td>\n",
       "      <td>NaN</td>\n",
       "      <td>NaN</td>\n",
       "    </tr>\n",
       "    <tr>\n",
       "      <th>6</th>\n",
       "      <td>6</td>\n",
       "      <td>Mortdog</td>\n",
       "      <td>100 HP Challenger - Nerfed but still so good  ...</td>\n",
       "      <td>frame11880.jpg</td>\n",
       "      <td>cropped_S_6.jpg</td>\n",
       "      <td>Background</td>\n",
       "      <td>NaN</td>\n",
       "      <td>NaN</td>\n",
       "      <td>NaN</td>\n",
       "    </tr>\n",
       "    <tr>\n",
       "      <th>7</th>\n",
       "      <td>7</td>\n",
       "      <td>Mortdog</td>\n",
       "      <td>100 HP Challenger - Nerfed but still so good  ...</td>\n",
       "      <td>frame11880.jpg</td>\n",
       "      <td>cropped_S_7.jpg</td>\n",
       "      <td>NaN</td>\n",
       "      <td>NaN</td>\n",
       "      <td>image_1.jpg</td>\n",
       "      <td>/Users/mgw/Desktop/CS686_Project/teamfight-tac...</td>\n",
       "    </tr>\n",
       "    <tr>\n",
       "      <th>8</th>\n",
       "      <td>8</td>\n",
       "      <td>Mortdog</td>\n",
       "      <td>100 HP Challenger - Nerfed but still so good  ...</td>\n",
       "      <td>frame11880.jpg</td>\n",
       "      <td>cropped_S_8.jpg</td>\n",
       "      <td>NaN</td>\n",
       "      <td>NaN</td>\n",
       "      <td>image_2.jpg</td>\n",
       "      <td>/Users/mgw/Desktop/CS686_Project/teamfight-tac...</td>\n",
       "    </tr>\n",
       "    <tr>\n",
       "      <th>9</th>\n",
       "      <td>9</td>\n",
       "      <td>Mortdog</td>\n",
       "      <td>100 HP Challenger - Nerfed but still so good  ...</td>\n",
       "      <td>frame11880.jpg</td>\n",
       "      <td>cropped_S_9.jpg</td>\n",
       "      <td>NaN</td>\n",
       "      <td>NaN</td>\n",
       "      <td>image_3.jpg</td>\n",
       "      <td>/Users/mgw/Desktop/CS686_Project/teamfight-tac...</td>\n",
       "    </tr>\n",
       "  </tbody>\n",
       "</table>\n",
       "</div>"
      ],
      "text/plain": [
       "   Unnamed: 0 youtuber                                         video_name  \\\n",
       "0           0  Mortdog  100 HP Challenger - Nerfed but still so good  ...   \n",
       "1           1  Mortdog  100 HP Challenger - Nerfed but still so good  ...   \n",
       "2           2  Mortdog  100 HP Challenger - Nerfed but still so good  ...   \n",
       "3           3  Mortdog  100 HP Challenger - Nerfed but still so good  ...   \n",
       "4           4  Mortdog  100 HP Challenger - Nerfed but still so good  ...   \n",
       "5           5  Mortdog  100 HP Challenger - Nerfed but still so good  ...   \n",
       "6           6  Mortdog  100 HP Challenger - Nerfed but still so good  ...   \n",
       "7           7  Mortdog  100 HP Challenger - Nerfed but still so good  ...   \n",
       "8           8  Mortdog  100 HP Challenger - Nerfed but still so good  ...   \n",
       "9           9  Mortdog  100 HP Challenger - Nerfed but still so good  ...   \n",
       "\n",
       "       frame_name     cropped_name champion_name  predicted   image_name  \\\n",
       "0  frame11880.jpg  cropped_S_0.jpg           NaN        NaN  image_0.jpg   \n",
       "1  frame11880.jpg  cropped_S_1.jpg       Warwick        NaN          NaN   \n",
       "2  frame11880.jpg  cropped_S_2.jpg         Taric        NaN          NaN   \n",
       "3  frame11880.jpg  cropped_S_3.jpg       Camille        NaN          NaN   \n",
       "4  frame11880.jpg  cropped_S_4.jpg    Background        NaN          NaN   \n",
       "5  frame11880.jpg  cropped_S_5.jpg    Background        NaN          NaN   \n",
       "6  frame11880.jpg  cropped_S_6.jpg    Background        NaN          NaN   \n",
       "7  frame11880.jpg  cropped_S_7.jpg           NaN        NaN  image_1.jpg   \n",
       "8  frame11880.jpg  cropped_S_8.jpg           NaN        NaN  image_2.jpg   \n",
       "9  frame11880.jpg  cropped_S_9.jpg           NaN        NaN  image_3.jpg   \n",
       "\n",
       "                                     image_file_path  \n",
       "0  /Users/mgw/Desktop/CS686_Project/teamfight-tac...  \n",
       "1                                                NaN  \n",
       "2                                                NaN  \n",
       "3                                                NaN  \n",
       "4                                                NaN  \n",
       "5                                                NaN  \n",
       "6                                                NaN  \n",
       "7  /Users/mgw/Desktop/CS686_Project/teamfight-tac...  \n",
       "8  /Users/mgw/Desktop/CS686_Project/teamfight-tac...  \n",
       "9  /Users/mgw/Desktop/CS686_Project/teamfight-tac...  "
      ]
     },
     "execution_count": 409,
     "metadata": {},
     "output_type": "execute_result"
    }
   ],
   "source": [
    "testset = CustomImageDataset(annotations_file = annotations_file, \n",
    "                          img_labels = img_labels, \n",
    "                          img_labels_train = None, \n",
    "                          img_labels_test = None,\n",
    "                          img_dir='./data/champion-classifier', transform=None, flag=None)\n",
    "\n",
    "testloader = torch.utils.data.DataLoader(testset, batch_size=batch_size, num_workers=0, shuffle=False)"
   ]
  },
  {
   "cell_type": "code",
   "execution_count": null,
   "id": "7b551874",
   "metadata": {},
   "outputs": [],
   "source": [
    "\n",
    "    \n",
    "\n"
   ]
  },
  {
   "cell_type": "code",
   "execution_count": null,
   "id": "11fab0c2",
   "metadata": {},
   "outputs": [],
   "source": []
  }
 ],
 "metadata": {
  "kernelspec": {
   "display_name": "Python 3",
   "language": "python",
   "name": "python3"
  },
  "language_info": {
   "codemirror_mode": {
    "name": "ipython",
    "version": 3
   },
   "file_extension": ".py",
   "mimetype": "text/x-python",
   "name": "python",
   "nbconvert_exporter": "python",
   "pygments_lexer": "ipython3",
   "version": "3.8.8"
  }
 },
 "nbformat": 4,
 "nbformat_minor": 5
}
