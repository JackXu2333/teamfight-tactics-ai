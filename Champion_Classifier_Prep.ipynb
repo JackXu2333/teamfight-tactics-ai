{
 "cells": [
  {
   "cell_type": "markdown",
   "metadata": {},
   "source": [
    "# Champion Classifier:\n",
    "- match image data with excel file of champion labels\n",
    "- background images\n",
    "- VGG structure\n",
    "\n",
    "- annotations_file (CSV)\n",
    "    - file_name, one_hot_encoding_champion, champion_name \n",
    "\n",
    "- img_dir (Path)\n",
    "    - path that contains all the image\n"
   ]
  },
  {
   "cell_type": "code",
   "execution_count": 26,
   "metadata": {},
   "outputs": [],
   "source": [
    "# Packages\n",
    "import numpy as np\n",
    "import pandas as pd\n",
    "import os\n",
    "import shutil #copy and paste files\n",
    "import re\n",
    "import random"
   ]
  },
  {
   "cell_type": "markdown",
   "metadata": {},
   "source": [
    "### Read data"
   ]
  },
  {
   "cell_type": "code",
   "execution_count": 2,
   "metadata": {},
   "outputs": [],
   "source": [
    "# Data of cropped images\n",
    "df = pd.read_excel('data/Champions_Label.xlsx')\n",
    "# Data of all champion names\n",
    "master_champ_df = pd.read_excel('data/champion_list_master_dataset.xlsx')\n",
    "\n",
    "# Columns to keep\n",
    "columns = ['youtuber', 'video_name', 'frame_name', 'cropped_name', 'champion_name']"
   ]
  },
  {
   "cell_type": "markdown",
   "metadata": {},
   "source": [
    "### Clean data"
   ]
  },
  {
   "cell_type": "code",
   "execution_count": 3,
   "metadata": {},
   "outputs": [],
   "source": [
    "# list of all unique champions + background\n",
    "master_champ_list = master_champ_df.champion_name.unique().tolist() + ['Background']"
   ]
  },
  {
   "cell_type": "code",
   "execution_count": 25,
   "metadata": {},
   "outputs": [
    {
     "data": {
      "text/html": [
       "<div>\n",
       "<style scoped>\n",
       "    .dataframe tbody tr th:only-of-type {\n",
       "        vertical-align: middle;\n",
       "    }\n",
       "\n",
       "    .dataframe tbody tr th {\n",
       "        vertical-align: top;\n",
       "    }\n",
       "\n",
       "    .dataframe thead th {\n",
       "        text-align: right;\n",
       "    }\n",
       "</style>\n",
       "<table border=\"1\" class=\"dataframe\">\n",
       "  <thead>\n",
       "    <tr style=\"text-align: right;\">\n",
       "      <th></th>\n",
       "      <th>youtuber</th>\n",
       "      <th>video_name</th>\n",
       "      <th>frame_name</th>\n",
       "      <th>cropped_name</th>\n",
       "      <th>champion_name</th>\n",
       "    </tr>\n",
       "  </thead>\n",
       "  <tbody>\n",
       "  </tbody>\n",
       "</table>\n",
       "</div>"
      ],
      "text/plain": [
       "Empty DataFrame\n",
       "Columns: [youtuber, video_name, frame_name, cropped_name, champion_name]\n",
       "Index: []"
      ]
     },
     "execution_count": 25,
     "metadata": {},
     "output_type": "execute_result"
    }
   ],
   "source": [
    "# Remove all NA values\n",
    "df = df[~df.champion_name.isna()]\n",
    "\n",
    "# Keep relevant columns\n",
    "df = df.loc[:, columns]\n",
    "\n",
    "# Check if names are all correct\n",
    "df[~df.champion_name.isin(master_champ_list)]"
   ]
  },
  {
   "cell_type": "code",
   "execution_count": 27,
   "metadata": {},
   "outputs": [],
   "source": [
    "# One hot encoding of champions\n",
    "champion_df = df.champion_name.copy()\n",
    "champion_df = champion_df.apply(lambda x: master_champ_list.index(x))\n",
    "\n",
    "df['champion_onehot'] = champion_df"
   ]
  },
  {
   "cell_type": "markdown",
   "metadata": {},
   "source": [
    "### Move all relevant images to data"
   ]
  },
  {
   "cell_type": "code",
   "execution_count": 61,
   "metadata": {},
   "outputs": [],
   "source": [
    "def move_images(final_data_path, df):\n",
    "\n",
    "    #final_data_path = os.path.join(os.getcwd(), 'data', 'champion-classifier')\n",
    "\n",
    "    if not os.path.exists(final_data_path):\n",
    "        os.makedirs(final_data_path)\n",
    "\n",
    "    image_name_list = []\n",
    "    image_path_list = []\n",
    "\n",
    "    for i in range(len(df)):\n",
    "        image_name = f'image_{i}.jpg'\n",
    "        row = df.iloc[i, :]\n",
    "        path_to_img = os.path.join(os.getcwd(), 'contents', row.youtuber, row.video_name, re.sub(r'.jpg', '', row.frame_name), re.sub(r'.jpg', '', row.cropped_name)+'.png')\n",
    "        path_to_final_img = os.path.join(final_data_path, image_name)\n",
    "        image_name_list.append(image_name)\n",
    "        image_path_list.append(path_to_final_img)\n",
    "        shutil.copyfile(path_to_img, path_to_final_img)\n",
    "\n",
    "    df['image_name'] = image_name_list\n",
    "    df['image_file_path'] = image_path_list\n",
    "\n",
    "\n",
    "    return df\n",
    "\n",
    "move_images(final_data_path = os.path.join(os.getcwd(), 'data', 'champion-classifier'), df = df)"
   ]
  },
  {
   "cell_type": "code",
   "execution_count": 33,
   "metadata": {},
   "outputs": [
    {
     "data": {
      "text/html": [
       "<div>\n",
       "<style scoped>\n",
       "    .dataframe tbody tr th:only-of-type {\n",
       "        vertical-align: middle;\n",
       "    }\n",
       "\n",
       "    .dataframe tbody tr th {\n",
       "        vertical-align: top;\n",
       "    }\n",
       "\n",
       "    .dataframe thead th {\n",
       "        text-align: right;\n",
       "    }\n",
       "</style>\n",
       "<table border=\"1\" class=\"dataframe\">\n",
       "  <thead>\n",
       "    <tr style=\"text-align: right;\">\n",
       "      <th></th>\n",
       "      <th>image_name</th>\n",
       "      <th>champion_onehot</th>\n",
       "      <th>champion_name</th>\n",
       "    </tr>\n",
       "  </thead>\n",
       "  <tbody>\n",
       "    <tr>\n",
       "      <th>35</th>\n",
       "      <td>image_35.jpg</td>\n",
       "      <td>4</td>\n",
       "      <td>Ezreal</td>\n",
       "    </tr>\n",
       "    <tr>\n",
       "      <th>832</th>\n",
       "      <td>image_832.jpg</td>\n",
       "      <td>46</td>\n",
       "      <td>Orianna</td>\n",
       "    </tr>\n",
       "    <tr>\n",
       "      <th>506</th>\n",
       "      <td>image_506.jpg</td>\n",
       "      <td>30</td>\n",
       "      <td>Leona</td>\n",
       "    </tr>\n",
       "    <tr>\n",
       "      <th>819</th>\n",
       "      <td>image_819.jpg</td>\n",
       "      <td>39</td>\n",
       "      <td>Ahri</td>\n",
       "    </tr>\n",
       "    <tr>\n",
       "      <th>473</th>\n",
       "      <td>image_473.jpg</td>\n",
       "      <td>31</td>\n",
       "      <td>Lucian</td>\n",
       "    </tr>\n",
       "    <tr>\n",
       "      <th>374</th>\n",
       "      <td>image_374.jpg</td>\n",
       "      <td>68</td>\n",
       "      <td>Tristana</td>\n",
       "    </tr>\n",
       "    <tr>\n",
       "      <th>253</th>\n",
       "      <td>image_253.jpg</td>\n",
       "      <td>79</td>\n",
       "      <td>Sion</td>\n",
       "    </tr>\n",
       "    <tr>\n",
       "      <th>25</th>\n",
       "      <td>image_25.jpg</td>\n",
       "      <td>63</td>\n",
       "      <td>Twisted Fate</td>\n",
       "    </tr>\n",
       "    <tr>\n",
       "      <th>282</th>\n",
       "      <td>image_282.jpg</td>\n",
       "      <td>83</td>\n",
       "      <td>Yuumi</td>\n",
       "    </tr>\n",
       "    <tr>\n",
       "      <th>770</th>\n",
       "      <td>image_770.jpg</td>\n",
       "      <td>35</td>\n",
       "      <td>Senna</td>\n",
       "    </tr>\n",
       "  </tbody>\n",
       "</table>\n",
       "</div>"
      ],
      "text/plain": [
       "        image_name  champion_onehot champion_name\n",
       "35    image_35.jpg                4        Ezreal\n",
       "832  image_832.jpg               46       Orianna\n",
       "506  image_506.jpg               30         Leona\n",
       "819  image_819.jpg               39          Ahri\n",
       "473  image_473.jpg               31        Lucian\n",
       "374  image_374.jpg               68      Tristana\n",
       "253  image_253.jpg               79          Sion\n",
       "25    image_25.jpg               63  Twisted Fate\n",
       "282  image_282.jpg               83         Yuumi\n",
       "770  image_770.jpg               35         Senna"
      ]
     },
     "execution_count": 33,
     "metadata": {},
     "output_type": "execute_result"
    }
   ],
   "source": [
    "annotation_file = df.loc[:, ['image_name', 'champion_onehot', 'champion_name']]\n",
    "\n",
    "annotation_file = annotation_file.reset_index(drop=True)\n",
    "\n",
    "annotation_file.to_csv(os.path.join(os.getcwd(), 'data', 'annotation_file.csv'))\n",
    "\n",
    "annotation_file.sample(10)"
   ]
  },
  {
   "cell_type": "markdown",
   "metadata": {},
   "source": [
    "# Create batch images (different from original training data)"
   ]
  },
  {
   "cell_type": "code",
   "execution_count": 62,
   "metadata": {},
   "outputs": [],
   "source": [
    "# Data of cropped images\n",
    "df = pd.read_excel('data/Champions_Label.xlsx')\n",
    "# Data of all champion names\n",
    "master_champ_df = pd.read_excel('data/champion_list_master_dataset.xlsx')\n",
    "\n",
    "# Columns to keep\n",
    "columns = ['youtuber', 'video_name', 'frame_name', 'cropped_name', 'champion_name']\n",
    "\n",
    "# list of all unique champions + background\n",
    "master_champ_list = master_champ_df.champion_name.unique().tolist() + ['Background']"
   ]
  },
  {
   "cell_type": "code",
   "execution_count": 63,
   "metadata": {},
   "outputs": [],
   "source": [
    "df_unnamed = df[df.champion_name.isna()].reset_index(drop=True)"
   ]
  },
  {
   "cell_type": "code",
   "execution_count": 64,
   "metadata": {},
   "outputs": [
    {
     "name": "stderr",
     "output_type": "stream",
     "text": [
      "/var/folders/f7/7wm8ypsx1_zcy_df6_f5nrl40000gn/T/ipykernel_4950/986051482.py:20: SettingWithCopyWarning: \n",
      "A value is trying to be set on a copy of a slice from a DataFrame.\n",
      "Try using .loc[row_indexer,col_indexer] = value instead\n",
      "\n",
      "See the caveats in the documentation: https://pandas.pydata.org/pandas-docs/stable/user_guide/indexing.html#returning-a-view-versus-a-copy\n",
      "  df['image_name'] = image_name_list\n",
      "/var/folders/f7/7wm8ypsx1_zcy_df6_f5nrl40000gn/T/ipykernel_4950/986051482.py:21: SettingWithCopyWarning: \n",
      "A value is trying to be set on a copy of a slice from a DataFrame.\n",
      "Try using .loc[row_indexer,col_indexer] = value instead\n",
      "\n",
      "See the caveats in the documentation: https://pandas.pydata.org/pandas-docs/stable/user_guide/indexing.html#returning-a-view-versus-a-copy\n",
      "  df['image_file_path'] = image_path_list\n"
     ]
    }
   ],
   "source": [
    "# DO NOT CHANGE THE ORDER OF THIS LIST:\n",
    "video_list_check = ['100 HP Challenger - Nerfed but still so good  TFT Gizmos _ Gadgets  Teamfight Tactics.mp4']\n",
    "                        # '11 Loss Mercenary - 29 HP to 55 HP!  TFT Gizmos _ Gadgets  Teamfight Tactics.mp4',\n",
    "                        # '3 Mutant Chogath - Augments are crazy!!  TFT Gizmos _ Gadgets  Teamfight Tactics.mp4',\n",
    "                        # '4 Score Ahri - Gamble with Confidence  TFT Neon Nights  Teamfight Tactics.mp4',]\n",
    "\n",
    "for i in range(len(video_list_check)):\n",
    "    df_unamed_sample = df_unnamed[df_unnamed.video_name == video_list_check[i]]\n",
    "    final_data_path = os.path.join(os.getcwd(), 'data', f'batch-data-{i}')\n",
    "\n",
    "    move_images(final_data_path, df_unamed_sample)\n"
   ]
  },
  {
   "cell_type": "code",
   "execution_count": 75,
   "metadata": {},
   "outputs": [],
   "source": [
    "# Overwrite master spreadsheet to include image_file_pathpath\n",
    "\n",
    "df.merge(df_unamed_sample, how='left').to_excel(os.path.join('data', 'Champions_Label.xlsx'))"
   ]
  },
  {
   "cell_type": "code",
   "execution_count": null,
   "metadata": {},
   "outputs": [],
   "source": []
  }
 ],
 "metadata": {
  "interpreter": {
   "hash": "0f63f26de748f105537615ec22abe0c9c589e2c8df9dc8e7c73b924db79e12be"
  },
  "kernelspec": {
   "display_name": "Python 3.9.7 ('base')",
   "language": "python",
   "name": "python3"
  },
  "language_info": {
   "codemirror_mode": {
    "name": "ipython",
    "version": 3
   },
   "file_extension": ".py",
   "mimetype": "text/x-python",
   "name": "python",
   "nbconvert_exporter": "python",
   "pygments_lexer": "ipython3",
   "version": "3.9.7"
  },
  "orig_nbformat": 4
 },
 "nbformat": 4,
 "nbformat_minor": 2
}
