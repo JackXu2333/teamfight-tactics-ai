{
 "cells": [
  {
   "cell_type": "markdown",
   "metadata": {},
   "source": [
    "# Champion Classifier:\n",
    "- match image data with excel file of champion labels\n",
    "- background images\n",
    "- VGG structure\n",
    "\n",
    "- annotations_file (CSV)\n",
    "    - file_name, one_hot_encoding_champion, champion_name \n",
    "\n",
    "- img_dir (Path)\n",
    "    - path that contains all the image\n"
   ]
  },
  {
   "cell_type": "code",
   "execution_count": 4,
   "metadata": {},
   "outputs": [],
   "source": [
    "# Packages\n",
    "import numpy as np\n",
    "import pandas as pd\n",
    "import os\n",
    "import shutil #copy and paste files\n",
    "import re\n",
    "import random\n",
    "import pickle"
   ]
  },
  {
   "cell_type": "markdown",
   "metadata": {},
   "source": [
    "### Read data"
   ]
  },
  {
   "cell_type": "code",
   "execution_count": 2,
   "metadata": {},
   "outputs": [],
   "source": [
    "# Data of cropped images\n",
    "df = pd.read_excel('data/Champions_Label.xlsx')\n",
    "# Data of all champion names\n",
    "master_champ_df = pd.read_excel('data/champion_list_master_dataset.xlsx')\n",
    "\n",
    "# Columns to keep\n",
    "columns = ['youtuber', 'video_name', 'frame_name', 'cropped_name', 'champion_name']"
   ]
  },
  {
   "cell_type": "markdown",
   "metadata": {},
   "source": [
    "### Clean data"
   ]
  },
  {
   "cell_type": "code",
   "execution_count": 3,
   "metadata": {},
   "outputs": [],
   "source": [
    "# list of all unique champions + background\n",
    "master_champ_list = master_champ_df.champion_name.unique().tolist() + ['Background']"
   ]
  },
  {
   "cell_type": "code",
   "execution_count": 87,
   "metadata": {},
   "outputs": [],
   "source": [
    "with open('data/master_champ_list.pkl', \"wb\") as output_file:\n",
    "    pickle.dump(master_champ_list, output_file)"
   ]
  },
  {
   "cell_type": "code",
   "execution_count": 25,
   "metadata": {},
   "outputs": [
    {
     "data": {
      "text/html": [
       "<div>\n",
       "<style scoped>\n",
       "    .dataframe tbody tr th:only-of-type {\n",
       "        vertical-align: middle;\n",
       "    }\n",
       "\n",
       "    .dataframe tbody tr th {\n",
       "        vertical-align: top;\n",
       "    }\n",
       "\n",
       "    .dataframe thead th {\n",
       "        text-align: right;\n",
       "    }\n",
       "</style>\n",
       "<table border=\"1\" class=\"dataframe\">\n",
       "  <thead>\n",
       "    <tr style=\"text-align: right;\">\n",
       "      <th></th>\n",
       "      <th>youtuber</th>\n",
       "      <th>video_name</th>\n",
       "      <th>frame_name</th>\n",
       "      <th>cropped_name</th>\n",
       "      <th>champion_name</th>\n",
       "    </tr>\n",
       "  </thead>\n",
       "  <tbody>\n",
       "  </tbody>\n",
       "</table>\n",
       "</div>"
      ],
      "text/plain": [
       "Empty DataFrame\n",
       "Columns: [youtuber, video_name, frame_name, cropped_name, champion_name]\n",
       "Index: []"
      ]
     },
     "execution_count": 25,
     "metadata": {},
     "output_type": "execute_result"
    }
   ],
   "source": [
    "# Remove all NA values\n",
    "df = df[~df.champion_name.isna()]\n",
    "\n",
    "# Keep relevant columns\n",
    "df = df.loc[:, columns]\n",
    "\n",
    "# Check if names are all correct\n",
    "df[~df.champion_name.isin(master_champ_list)]"
   ]
  },
  {
   "cell_type": "code",
   "execution_count": 27,
   "metadata": {},
   "outputs": [],
   "source": [
    "# One hot encoding of champions\n",
    "champion_df = df.champion_name.copy()\n",
    "champion_df = champion_df.apply(lambda x: master_champ_list.index(x))\n",
    "\n",
    "df['champion_onehot'] = champion_df"
   ]
  },
  {
   "cell_type": "markdown",
   "metadata": {},
   "source": [
    "### Move all relevant images to data"
   ]
  },
  {
   "cell_type": "code",
   "execution_count": 94,
   "metadata": {},
   "outputs": [],
   "source": [
    "def move_images(final_data_path, df, img_batch_name = ''):\n",
    "\n",
    "    #final_data_path = os.path.join(os.getcwd(), 'data', 'champion-classifier')\n",
    "\n",
    "    if not os.path.exists(final_data_path):\n",
    "        os.makedirs(final_data_path)\n",
    "\n",
    "    image_name_list = []\n",
    "    image_path_list = []\n",
    "\n",
    "    for i in range(len(df)):\n",
    "        \n",
    "        row = df.iloc[i, :]\n",
    "        path_to_img = os.path.join(os.getcwd(), 'contents', row.youtuber, row.video_name, re.sub(r'.jpg', '', row.frame_name), re.sub(r'.jpg', '', row.cropped_name)+'.png')\n",
    "\n",
    "        image_name = f'image_{i}_{img_batch_name}.jpg'\n",
    "        path_to_final_img = os.path.join(final_data_path, image_name)\n",
    "        image_name_list.append(image_name)\n",
    "        image_path_list.append(path_to_final_img)\n",
    "        shutil.copyfile(path_to_img, path_to_final_img)\n",
    "\n",
    "    df['image_name'] = image_name_list\n",
    "    df['image_file_path'] = image_path_list\n",
    "\n",
    "\n",
    "    return df\n",
    "\n",
    "            \n"
   ]
  },
  {
   "cell_type": "code",
   "execution_count": 33,
   "metadata": {},
   "outputs": [
    {
     "data": {
      "text/html": [
       "<div>\n",
       "<style scoped>\n",
       "    .dataframe tbody tr th:only-of-type {\n",
       "        vertical-align: middle;\n",
       "    }\n",
       "\n",
       "    .dataframe tbody tr th {\n",
       "        vertical-align: top;\n",
       "    }\n",
       "\n",
       "    .dataframe thead th {\n",
       "        text-align: right;\n",
       "    }\n",
       "</style>\n",
       "<table border=\"1\" class=\"dataframe\">\n",
       "  <thead>\n",
       "    <tr style=\"text-align: right;\">\n",
       "      <th></th>\n",
       "      <th>image_name</th>\n",
       "      <th>champion_onehot</th>\n",
       "      <th>champion_name</th>\n",
       "    </tr>\n",
       "  </thead>\n",
       "  <tbody>\n",
       "    <tr>\n",
       "      <th>35</th>\n",
       "      <td>image_35.jpg</td>\n",
       "      <td>4</td>\n",
       "      <td>Ezreal</td>\n",
       "    </tr>\n",
       "    <tr>\n",
       "      <th>832</th>\n",
       "      <td>image_832.jpg</td>\n",
       "      <td>46</td>\n",
       "      <td>Orianna</td>\n",
       "    </tr>\n",
       "    <tr>\n",
       "      <th>506</th>\n",
       "      <td>image_506.jpg</td>\n",
       "      <td>30</td>\n",
       "      <td>Leona</td>\n",
       "    </tr>\n",
       "    <tr>\n",
       "      <th>819</th>\n",
       "      <td>image_819.jpg</td>\n",
       "      <td>39</td>\n",
       "      <td>Ahri</td>\n",
       "    </tr>\n",
       "    <tr>\n",
       "      <th>473</th>\n",
       "      <td>image_473.jpg</td>\n",
       "      <td>31</td>\n",
       "      <td>Lucian</td>\n",
       "    </tr>\n",
       "    <tr>\n",
       "      <th>374</th>\n",
       "      <td>image_374.jpg</td>\n",
       "      <td>68</td>\n",
       "      <td>Tristana</td>\n",
       "    </tr>\n",
       "    <tr>\n",
       "      <th>253</th>\n",
       "      <td>image_253.jpg</td>\n",
       "      <td>79</td>\n",
       "      <td>Sion</td>\n",
       "    </tr>\n",
       "    <tr>\n",
       "      <th>25</th>\n",
       "      <td>image_25.jpg</td>\n",
       "      <td>63</td>\n",
       "      <td>Twisted Fate</td>\n",
       "    </tr>\n",
       "    <tr>\n",
       "      <th>282</th>\n",
       "      <td>image_282.jpg</td>\n",
       "      <td>83</td>\n",
       "      <td>Yuumi</td>\n",
       "    </tr>\n",
       "    <tr>\n",
       "      <th>770</th>\n",
       "      <td>image_770.jpg</td>\n",
       "      <td>35</td>\n",
       "      <td>Senna</td>\n",
       "    </tr>\n",
       "  </tbody>\n",
       "</table>\n",
       "</div>"
      ],
      "text/plain": [
       "        image_name  champion_onehot champion_name\n",
       "35    image_35.jpg                4        Ezreal\n",
       "832  image_832.jpg               46       Orianna\n",
       "506  image_506.jpg               30         Leona\n",
       "819  image_819.jpg               39          Ahri\n",
       "473  image_473.jpg               31        Lucian\n",
       "374  image_374.jpg               68      Tristana\n",
       "253  image_253.jpg               79          Sion\n",
       "25    image_25.jpg               63  Twisted Fate\n",
       "282  image_282.jpg               83         Yuumi\n",
       "770  image_770.jpg               35         Senna"
      ]
     },
     "execution_count": 33,
     "metadata": {},
     "output_type": "execute_result"
    }
   ],
   "source": [
    "move_images(final_data_path = os.path.join(os.getcwd(), 'data', 'champion-classifier'), df = df)\n",
    "\n",
    "annotation_file = df.loc[:, ['image_name', 'champion_onehot', 'champion_name']]\n",
    "\n",
    "annotation_file = annotation_file.reset_index(drop=True)\n",
    "\n",
    "annotation_file.to_csv(os.path.join(os.getcwd(), 'data', 'annotation_file.csv'))\n",
    "\n",
    "annotation_file.sample(10)"
   ]
  },
  {
   "cell_type": "markdown",
   "metadata": {},
   "source": [
    "# Create batch images (different from original training data)"
   ]
  },
  {
   "cell_type": "code",
   "execution_count": 133,
   "metadata": {},
   "outputs": [],
   "source": [
    "# Data of cropped images\n",
    "df = pd.read_excel('data/Champions_Label.xlsx')\n",
    "# Data of all champion names\n",
    "master_champ_df = pd.read_excel('data/champion_list_master_dataset.xlsx')\n",
    "\n",
    "# Columns to keep\n",
    "columns = ['youtuber', 'video_name', 'frame_name', 'cropped_name', 'champion_name']\n",
    "\n",
    "# list of all unique champions + background\n",
    "master_champ_list = master_champ_df.champion_name.unique().tolist() + ['Background']"
   ]
  },
  {
   "cell_type": "code",
   "execution_count": 134,
   "metadata": {},
   "outputs": [],
   "source": [
    "df_unnamed = df[df.champion_name.isna()].reset_index(drop=True)"
   ]
  },
  {
   "cell_type": "code",
   "execution_count": 135,
   "metadata": {},
   "outputs": [
    {
     "name": "stdout",
     "output_type": "stream",
     "text": [
      "11 Loss Mercenary - 29 HP to 55 HP!  TFT Gizmos _ Gadgets  Teamfight Tactics.mp4\n"
     ]
    },
    {
     "name": "stderr",
     "output_type": "stream",
     "text": [
      "/var/folders/f7/7wm8ypsx1_zcy_df6_f5nrl40000gn/T/ipykernel_4950/1645491115.py:22: SettingWithCopyWarning: \n",
      "A value is trying to be set on a copy of a slice from a DataFrame.\n",
      "Try using .loc[row_indexer,col_indexer] = value instead\n",
      "\n",
      "See the caveats in the documentation: https://pandas.pydata.org/pandas-docs/stable/user_guide/indexing.html#returning-a-view-versus-a-copy\n",
      "  df['image_name'] = image_name_list\n",
      "/var/folders/f7/7wm8ypsx1_zcy_df6_f5nrl40000gn/T/ipykernel_4950/1645491115.py:23: SettingWithCopyWarning: \n",
      "A value is trying to be set on a copy of a slice from a DataFrame.\n",
      "Try using .loc[row_indexer,col_indexer] = value instead\n",
      "\n",
      "See the caveats in the documentation: https://pandas.pydata.org/pandas-docs/stable/user_guide/indexing.html#returning-a-view-versus-a-copy\n",
      "  df['image_file_path'] = image_path_list\n"
     ]
    }
   ],
   "source": [
    "# DO NOT CHANGE THE ORDER OF THIS LIST:\n",
    "video_list_check = ['100 HP Challenger - Nerfed but still so good  TFT Gizmos _ Gadgets  Teamfight Tactics.mp4',\n",
    "                        '11 Loss Mercenary - 29 HP to 55 HP!  TFT Gizmos _ Gadgets  Teamfight Tactics.mp4']\n",
    "                        # '3 Mutant Chogath - Augments are crazy!!  TFT Gizmos _ Gadgets  Teamfight Tactics.mp4',\n",
    "                        # '4 Score Ahri - Gamble with Confidence  TFT Neon Nights  Teamfight Tactics.mp4',]\n",
    "\n",
    "\n",
    "df_unnamed['champion_onehot'] = 0\n",
    "df_unnamed['champion_name'] = 0\n",
    "\n",
    "for i in range(len(video_list_check)):\n",
    "    if i != 0:\n",
    "        print(video_list_check[i])\n",
    "        df_unamed_sample = df_unnamed[df_unnamed.video_name == video_list_check[i]]\n",
    "        final_batch_data_path = os.path.join(os.getcwd(), 'data', f'batch-data-{i}')\n",
    "        final_data_path = os.path.join(os.getcwd(), 'data', 'champion-classifier')\n",
    "\n",
    "        move_images(final_batch_data_path, df_unamed_sample, img_batch_name=f'batch-data-{i}')\n",
    "        move_images(final_data_path, df_unamed_sample, img_batch_name=f'batch-data-{i}')\n",
    "\n",
    "        annotation_file = df_unamed_sample.loc[:, ['image_name', 'champion_onehot', 'champion_name']]\n",
    "\n",
    "        annotation_file = annotation_file.reset_index(drop=True)\n",
    "\n",
    "        annotation_file.to_csv(os.path.join(os.getcwd(), 'data', f'batch-data-{i}', f'annotation_file-{i}.csv'), index=False)\n"
   ]
  },
  {
   "cell_type": "markdown",
   "metadata": {},
   "source": [
    "## Change the onehot to the proper one:\n",
    "- after manually editing the annotation_file_final-i.csv"
   ]
  },
  {
   "cell_type": "code",
   "execution_count": 145,
   "metadata": {},
   "outputs": [
    {
     "data": {
      "text/html": [
       "<div>\n",
       "<style scoped>\n",
       "    .dataframe tbody tr th:only-of-type {\n",
       "        vertical-align: middle;\n",
       "    }\n",
       "\n",
       "    .dataframe tbody tr th {\n",
       "        vertical-align: top;\n",
       "    }\n",
       "\n",
       "    .dataframe thead th {\n",
       "        text-align: right;\n",
       "    }\n",
       "</style>\n",
       "<table border=\"1\" class=\"dataframe\">\n",
       "  <thead>\n",
       "    <tr style=\"text-align: right;\">\n",
       "      <th></th>\n",
       "      <th>image_name</th>\n",
       "      <th>champion_onehot</th>\n",
       "      <th>champion_name</th>\n",
       "    </tr>\n",
       "  </thead>\n",
       "  <tbody>\n",
       "    <tr>\n",
       "      <th>0</th>\n",
       "      <td>image_0_batch-data-1.jpg</td>\n",
       "      <td>85</td>\n",
       "      <td>Background</td>\n",
       "    </tr>\n",
       "    <tr>\n",
       "      <th>1</th>\n",
       "      <td>image_1_batch-data-1.jpg</td>\n",
       "      <td>85</td>\n",
       "      <td>Background</td>\n",
       "    </tr>\n",
       "    <tr>\n",
       "      <th>2</th>\n",
       "      <td>image_2_batch-data-1.jpg</td>\n",
       "      <td>85</td>\n",
       "      <td>Background</td>\n",
       "    </tr>\n",
       "    <tr>\n",
       "      <th>3</th>\n",
       "      <td>image_3_batch-data-1.jpg</td>\n",
       "      <td>85</td>\n",
       "      <td>Background</td>\n",
       "    </tr>\n",
       "    <tr>\n",
       "      <th>4</th>\n",
       "      <td>image_4_batch-data-1.jpg</td>\n",
       "      <td>85</td>\n",
       "      <td>Background</td>\n",
       "    </tr>\n",
       "    <tr>\n",
       "      <th>...</th>\n",
       "      <td>...</td>\n",
       "      <td>...</td>\n",
       "      <td>...</td>\n",
       "    </tr>\n",
       "    <tr>\n",
       "      <th>1634</th>\n",
       "      <td>image_1634_batch-data-1.jpg</td>\n",
       "      <td>85</td>\n",
       "      <td>Background</td>\n",
       "    </tr>\n",
       "    <tr>\n",
       "      <th>1635</th>\n",
       "      <td>image_1635_batch-data-1.jpg</td>\n",
       "      <td>64</td>\n",
       "      <td>Graves</td>\n",
       "    </tr>\n",
       "    <tr>\n",
       "      <th>1636</th>\n",
       "      <td>image_1636_batch-data-1.jpg</td>\n",
       "      <td>7</td>\n",
       "      <td>Kassadin</td>\n",
       "    </tr>\n",
       "    <tr>\n",
       "      <th>1637</th>\n",
       "      <td>image_1637_batch-data-1.jpg</td>\n",
       "      <td>85</td>\n",
       "      <td>Background</td>\n",
       "    </tr>\n",
       "    <tr>\n",
       "      <th>1638</th>\n",
       "      <td>image_1638_batch-data-1.jpg</td>\n",
       "      <td>85</td>\n",
       "      <td>Background</td>\n",
       "    </tr>\n",
       "  </tbody>\n",
       "</table>\n",
       "<p>1639 rows × 3 columns</p>\n",
       "</div>"
      ],
      "text/plain": [
       "                       image_name  champion_onehot champion_name\n",
       "0        image_0_batch-data-1.jpg               85    Background\n",
       "1        image_1_batch-data-1.jpg               85    Background\n",
       "2        image_2_batch-data-1.jpg               85    Background\n",
       "3        image_3_batch-data-1.jpg               85    Background\n",
       "4        image_4_batch-data-1.jpg               85    Background\n",
       "...                           ...              ...           ...\n",
       "1634  image_1634_batch-data-1.jpg               85    Background\n",
       "1635  image_1635_batch-data-1.jpg               64        Graves\n",
       "1636  image_1636_batch-data-1.jpg                7      Kassadin\n",
       "1637  image_1637_batch-data-1.jpg               85    Background\n",
       "1638  image_1638_batch-data-1.jpg               85    Background\n",
       "\n",
       "[1639 rows x 3 columns]"
      ]
     },
     "execution_count": 145,
     "metadata": {},
     "output_type": "execute_result"
    }
   ],
   "source": [
    "# CHANGE THIS\n",
    "i = 1\n",
    "\n",
    "annotation_final = pd.read_csv('data/annotation_final_file.csv')\n",
    "annotation_batch = pd.read_csv(f'data/batch-data-{i}/annotation_file_final-{i}.csv')\n",
    "\n",
    "# Series representing the onehot representation\n",
    "champion_df = annotation_batch.champion_name.apply(lambda x: master_champ_list.index(x))\n",
    "\n",
    "annotation_batch.champion_onehot = champion_df\n",
    "\n",
    "annotation_batch"
   ]
  },
  {
   "cell_type": "code",
   "execution_count": 146,
   "metadata": {},
   "outputs": [],
   "source": [
    "test = pd.concat([annotation_final.loc[:,['image_name', 'champion_onehot', 'champion_name']], annotation_batch.loc[:,['image_name', 'champion_onehot', 'champion_name']]])\n",
    "\n",
    "test.to_csv('data/annotation_final_file.csv', index = False)"
   ]
  },
  {
   "cell_type": "code",
   "execution_count": null,
   "metadata": {},
   "outputs": [],
   "source": []
  },
  {
   "cell_type": "code",
   "execution_count": 48,
   "metadata": {},
   "outputs": [],
   "source": [
    "# Delete later\n",
    "data = pd.read_csv('data/annotation_final_file.csv')"
   ]
  },
  {
   "cell_type": "code",
   "execution_count": 49,
   "metadata": {},
   "outputs": [
    {
     "data": {
      "text/html": [
       "<div>\n",
       "<style scoped>\n",
       "    .dataframe tbody tr th:only-of-type {\n",
       "        vertical-align: middle;\n",
       "    }\n",
       "\n",
       "    .dataframe tbody tr th {\n",
       "        vertical-align: top;\n",
       "    }\n",
       "\n",
       "    .dataframe thead th {\n",
       "        text-align: right;\n",
       "    }\n",
       "</style>\n",
       "<table border=\"1\" class=\"dataframe\">\n",
       "  <thead>\n",
       "    <tr style=\"text-align: right;\">\n",
       "      <th></th>\n",
       "      <th>image_name</th>\n",
       "      <th>champion_onehot</th>\n",
       "      <th>champion_name</th>\n",
       "    </tr>\n",
       "  </thead>\n",
       "  <tbody>\n",
       "    <tr>\n",
       "      <th>0</th>\n",
       "      <td>image_0.jpg</td>\n",
       "      <td>23</td>\n",
       "      <td>Warwick</td>\n",
       "    </tr>\n",
       "    <tr>\n",
       "      <th>1</th>\n",
       "      <td>image_1.jpg</td>\n",
       "      <td>74</td>\n",
       "      <td>Taric</td>\n",
       "    </tr>\n",
       "    <tr>\n",
       "      <th>2</th>\n",
       "      <td>image_2.jpg</td>\n",
       "      <td>2</td>\n",
       "      <td>Camille</td>\n",
       "    </tr>\n",
       "    <tr>\n",
       "      <th>9</th>\n",
       "      <td>image_9.jpg</td>\n",
       "      <td>22</td>\n",
       "      <td>Talon</td>\n",
       "    </tr>\n",
       "    <tr>\n",
       "      <th>10</th>\n",
       "      <td>image_10.jpg</td>\n",
       "      <td>73</td>\n",
       "      <td>Shaco</td>\n",
       "    </tr>\n",
       "    <tr>\n",
       "      <th>...</th>\n",
       "      <td>...</td>\n",
       "      <td>...</td>\n",
       "      <td>...</td>\n",
       "    </tr>\n",
       "    <tr>\n",
       "      <th>3929</th>\n",
       "      <td>image_1604_batch-data-1.jpg</td>\n",
       "      <td>17</td>\n",
       "      <td>Quinn</td>\n",
       "    </tr>\n",
       "    <tr>\n",
       "      <th>3942</th>\n",
       "      <td>image_1617_batch-data-1.jpg</td>\n",
       "      <td>1</td>\n",
       "      <td>Caitlyn</td>\n",
       "    </tr>\n",
       "    <tr>\n",
       "      <th>3953</th>\n",
       "      <td>image_1628_batch-data-1.jpg</td>\n",
       "      <td>69</td>\n",
       "      <td>Trundle</td>\n",
       "    </tr>\n",
       "    <tr>\n",
       "      <th>3960</th>\n",
       "      <td>image_1635_batch-data-1.jpg</td>\n",
       "      <td>64</td>\n",
       "      <td>Graves</td>\n",
       "    </tr>\n",
       "    <tr>\n",
       "      <th>3961</th>\n",
       "      <td>image_1636_batch-data-1.jpg</td>\n",
       "      <td>7</td>\n",
       "      <td>Kassadin</td>\n",
       "    </tr>\n",
       "  </tbody>\n",
       "</table>\n",
       "<p>1171 rows × 3 columns</p>\n",
       "</div>"
      ],
      "text/plain": [
       "                       image_name  champion_onehot champion_name\n",
       "0                     image_0.jpg               23       Warwick\n",
       "1                     image_1.jpg               74         Taric\n",
       "2                     image_2.jpg                2       Camille\n",
       "9                     image_9.jpg               22         Talon\n",
       "10                   image_10.jpg               73         Shaco\n",
       "...                           ...              ...           ...\n",
       "3929  image_1604_batch-data-1.jpg               17         Quinn\n",
       "3942  image_1617_batch-data-1.jpg                1       Caitlyn\n",
       "3953  image_1628_batch-data-1.jpg               69       Trundle\n",
       "3960  image_1635_batch-data-1.jpg               64        Graves\n",
       "3961  image_1636_batch-data-1.jpg                7      Kassadin\n",
       "\n",
       "[1171 rows x 3 columns]"
      ]
     },
     "execution_count": 49,
     "metadata": {},
     "output_type": "execute_result"
    }
   ],
   "source": [
    "final_data = data[data.champion_name != 'Background']\n",
    "\n",
    "\n",
    "final_data.to_csv('data/annotation_final_file_champ_only.csv' , index = False)\n",
    "\n",
    "final_data\n",
    "\n",
    "\n"
   ]
  },
  {
   "cell_type": "code",
   "execution_count": 50,
   "metadata": {},
   "outputs": [],
   "source": [
    "from sklearn.model_selection import train_test_split\n",
    "\n",
    "X_train, X_test, y_train, y_test = train_test_split(\n",
    "    final_data['image_name'],\n",
    "    final_data['champion_onehot'],\n",
    "    test_size = 0.25,\n",
    "    random_state = 0,\n",
    "    stratify=final_data['champion_onehot']\n",
    ")"
   ]
  },
  {
   "cell_type": "code",
   "execution_count": 53,
   "metadata": {},
   "outputs": [
    {
     "data": {
      "text/plain": [
       "361     75\n",
       "3690    74\n",
       "123     83\n",
       "551      7\n",
       "496     30\n",
       "        ..\n",
       "91      30\n",
       "704      5\n",
       "69      72\n",
       "2788     2\n",
       "3843    69\n",
       "Name: champion_onehot, Length: 878, dtype: int64"
      ]
     },
     "execution_count": 53,
     "metadata": {},
     "output_type": "execute_result"
    }
   ],
   "source": [
    "y_train"
   ]
  },
  {
   "cell_type": "code",
   "execution_count": null,
   "metadata": {},
   "outputs": [],
   "source": []
  },
  {
   "cell_type": "code",
   "execution_count": null,
   "metadata": {},
   "outputs": [],
   "source": []
  }
 ],
 "metadata": {
  "interpreter": {
   "hash": "0f63f26de748f105537615ec22abe0c9c589e2c8df9dc8e7c73b924db79e12be"
  },
  "kernelspec": {
   "display_name": "Python 3.9.7 ('base')",
   "language": "python",
   "name": "python3"
  },
  "language_info": {
   "codemirror_mode": {
    "name": "ipython",
    "version": 3
   },
   "file_extension": ".py",
   "mimetype": "text/x-python",
   "name": "python",
   "nbconvert_exporter": "python",
   "pygments_lexer": "ipython3",
   "version": "3.9.7"
  },
  "orig_nbformat": 4
 },
 "nbformat": 4,
 "nbformat_minor": 2
}
