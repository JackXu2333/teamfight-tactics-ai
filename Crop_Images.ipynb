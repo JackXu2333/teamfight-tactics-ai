{
 "cells": [
  {
   "cell_type": "code",
   "execution_count": 35,
   "id": "4698557d",
   "metadata": {},
   "outputs": [],
   "source": [
    "import pandas as pd\n",
    "import numpy as np\n",
    "import matplotlib.pyplot as plt\n",
    "from PIL import Image, ImageDraw"
   ]
  },
  {
   "cell_type": "code",
   "execution_count": 7,
   "id": "f500a809",
   "metadata": {},
   "outputs": [],
   "source": [
    "# Read data\n",
    "crop_coordinate = pd.read_csv(\"data/Crop_Coordinates.csv\")\n",
    "H_radius, V_radius = 20, 38"
   ]
  },
  {
   "cell_type": "markdown",
   "id": "9092eb00",
   "metadata": {},
   "source": [
    "### Testing Cropping Boundaries"
   ]
  },
  {
   "cell_type": "code",
   "execution_count": 34,
   "id": "ebed7904",
   "metadata": {},
   "outputs": [],
   "source": [
    "# Cropped image into chunks\n",
    "img_path = \"img/9/frame55800.jpg\"\n",
    "\n",
    "with Image.open(img_path) as im:\n",
    "    for index, row in crop_coordinate.iterrows():\n",
    "        X, Y = row[0], row[1]\n",
    "        cropper = (X - H_radius, Y - V_radius, X + H_radius, Y + V_radius)\n",
    "        \n",
    "        im.crop(cropper).save(\"img/9/frame55800/test_cropped%d.png\" % index, \"PNG\")"
   ]
  },
  {
   "cell_type": "code",
   "execution_count": 37,
   "id": "f557d17c",
   "metadata": {},
   "outputs": [],
   "source": [
    "# Display bounding box\n",
    "img_path = \"img/9/frame55800.jpg\"\n",
    "\n",
    "with Image.open(img_path) as im:\n",
    "    \n",
    "    draw = ImageDraw.Draw(im)\n",
    "    \n",
    "    for index, row in crop_coordinate.iterrows():\n",
    "        X, Y = row[0], row[1] \n",
    "        draw.rectangle(((X - H_radius, Y - V_radius), (X + H_radius, Y + V_radius)), outline=\"red\")\n",
    "        \n",
    "    im.show()"
   ]
  },
  {
   "cell_type": "code",
   "execution_count": null,
   "id": "0d39b91b",
   "metadata": {},
   "outputs": [],
   "source": []
  }
 ],
 "metadata": {
  "kernelspec": {
   "display_name": "Python 3 (ipykernel)",
   "language": "python",
   "name": "python3"
  },
  "language_info": {
   "codemirror_mode": {
    "name": "ipython",
    "version": 3
   },
   "file_extension": ".py",
   "mimetype": "text/x-python",
   "name": "python",
   "nbconvert_exporter": "python",
   "pygments_lexer": "ipython3",
   "version": "3.8.3"
  }
 },
 "nbformat": 4,
 "nbformat_minor": 5
}
