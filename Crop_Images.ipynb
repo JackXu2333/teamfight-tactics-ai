{
 "cells": [
  {
   "cell_type": "code",
   "execution_count": 1,
   "id": "4698557d",
   "metadata": {},
   "outputs": [],
   "source": [
    "import pandas as pd\n",
    "import numpy as np\n",
    "import matplotlib.pyplot as plt\n",
    "from PIL import Image, ImageDraw"
   ]
  },
  {
   "cell_type": "code",
   "execution_count": 46,
   "id": "f500a809",
   "metadata": {},
   "outputs": [],
   "source": [
    "# Read data\n",
    "crop_coordinate = pd.read_csv(\"data/Crop_Coordinates.csv\")\n",
    "\n",
    "# Hyper preameter \n",
    "H_radius, V_radius = 20, 42\n",
    "\n",
    "# Horizontal margin, meaning how far each champion stay apart from each other on the same row\n",
    "# S = self, O = oppoinent\n",
    "H_margin_S, V_margin_S = 52, 34\n",
    "H_margin_O, V_margin_O = 48.5, 25\n",
    "\n",
    "# Grow of margin, from top to down\n",
    "H_margin_Grow, V_margin_Grow = 0.01, 0"
   ]
  },
  {
   "cell_type": "code",
   "execution_count": 35,
   "id": "5f0feef7",
   "metadata": {},
   "outputs": [],
   "source": [
    "coordinate_gen_S = np.zeros((4, 7, 2))\n",
    "coordinate_gen_O = np.zeros((4, 7, 2))\n",
    "\n",
    "coordinate_gen_O[0,0,:] = (266, 70)\n",
    "coordinate_gen_O[1,0,:] = (278, 70 + V_margin_O)\n",
    "coordinate_gen_O[2,0,:] = (257, 70 + V_margin_O * (1 + V_margin_Grow)**1 * 2)\n",
    "coordinate_gen_O[3,0,:] = (277, 70 + V_margin_O * (1 + V_margin_Grow)**2 * 3)\n",
    "\n",
    "coordinate_gen_S[0,0,:] = (248, 176)\n",
    "coordinate_gen_S[1,0,:] = (277, 176 + V_margin_S)\n",
    "coordinate_gen_S[2,0,:] = (249, 176 + V_margin_S * (1 + V_margin_Grow)**1 * 2)\n",
    "coordinate_gen_S[3,0,:] = (277, 176 + V_margin_S * (1 + V_margin_Grow)**2 * 3)\n",
    "\n",
    "for i in range(4):\n",
    "    H_margin_S_curr = H_margin_S * (1 + H_margin_Grow) ** i\n",
    "    H_margin_O_curr = H_margin_O * (1 + H_margin_Grow) ** i\n",
    "    coordinate_gen_S[i,:,0] = np.arange(coordinate_gen_S[i,0,0], \n",
    "                                        coordinate_gen_S[i,0,0] + H_margin_S_curr * 6 + 1, H_margin_S_curr)\n",
    "    coordinate_gen_O[i,:,0] = np.arange(coordinate_gen_O[i,0,0], \n",
    "                                        coordinate_gen_O[i,0,0] + H_margin_O_curr * 6 + 1, H_margin_O_curr)\n",
    "    coordinate_gen_S[i,:,1] = coordinate_gen_S[i,0,1]\n",
    "    coordinate_gen_O[i,:,1] = coordinate_gen_O[i,0,1]\n",
    "\n",
    "coordinate_gen_O = np.round(coordinate_gen_O, 0)\n",
    "coordinate_gen_S = np.round(coordinate_gen_S, 0)"
   ]
  },
  {
   "cell_type": "code",
   "execution_count": 36,
   "id": "209d8e3e",
   "metadata": {},
   "outputs": [],
   "source": [
    "coordinate_gen_S_modeled = pd.DataFrame(data=coordinate_gen_S.reshape(4*7, -1),\n",
    "             columns=[\"X\", \"Y\"])\n",
    "coordinate_gen_O_modeled = pd.DataFrame(data=coordinate_gen_O.reshape(4*7, -1),\n",
    "             columns=[\"X\", \"Y\"])"
   ]
  },
  {
   "cell_type": "code",
   "execution_count": 37,
   "id": "5737defb",
   "metadata": {},
   "outputs": [],
   "source": [
    "#coordinate_gen_O_modeled"
   ]
  },
  {
   "cell_type": "markdown",
   "id": "9092eb00",
   "metadata": {},
   "source": [
    "### Testing Cropping Boundaries"
   ]
  },
  {
   "cell_type": "code",
   "execution_count": 40,
   "id": "f557d17c",
   "metadata": {},
   "outputs": [],
   "source": [
    "# Display bounding box\n",
    "img_path = \"img/9/frame50790.jpg\"\n",
    "\n",
    "with Image.open(img_path) as im:\n",
    "    \n",
    "    draw = ImageDraw.Draw(im)\n",
    "    \n",
    "    for index, row in coordinate_gen_S_modeled.iterrows():\n",
    "        X, Y = row[0], row[1] \n",
    "        #draw.rectangle(((X - H_radius, Y - V_radius), (X + H_radius, Y + V_radius)), outline=\"red\")\n",
    "        draw.ellipse(((X - 5, Y - 5), (X + 5, Y + 5)), fill = 'red', outline ='red')\n",
    "        \n",
    "    im.show()"
   ]
  },
  {
   "cell_type": "code",
   "execution_count": 48,
   "id": "ebed7904",
   "metadata": {},
   "outputs": [],
   "source": [
    "# Cropped image into chunks\n",
    "img_path = \"img/9/frame55800.jpg\"\n",
    "\n",
    "with Image.open(img_path) as im:\n",
    "    for index, row in coordinate_gen_O_modeled.iterrows():\n",
    "        X, Y = row[0], row[1]\n",
    "        cropper = (X - H_radius, Y - V_radius, X + H_radius, Y + V_radius)\n",
    "        \n",
    "        im.crop(cropper).save(\"img/9/frame55800/test_cropped%d.png\" % index, \"PNG\")"
   ]
  },
  {
   "cell_type": "code",
   "execution_count": null,
   "id": "0d39b91b",
   "metadata": {},
   "outputs": [],
   "source": []
  }
 ],
 "metadata": {
  "kernelspec": {
   "display_name": "Python 3 (ipykernel)",
   "language": "python",
   "name": "python3"
  },
  "language_info": {
   "codemirror_mode": {
    "name": "ipython",
    "version": 3
   },
   "file_extension": ".py",
   "mimetype": "text/x-python",
   "name": "python",
   "nbconvert_exporter": "python",
   "pygments_lexer": "ipython3",
   "version": "3.8.12"
  }
 },
 "nbformat": 4,
 "nbformat_minor": 5
}
